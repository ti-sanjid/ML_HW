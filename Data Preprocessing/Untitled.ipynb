{
 "cells": [
  {
   "cell_type": "code",
   "execution_count": null,
   "id": "0f67c1ee",
   "metadata": {},
   "outputs": [],
   "source": [
    "consecutive_days = 0\n",
    "df_subset['Heatwave'] = 0\n",
    "# Loop through the DataFrame\n",
    "for index, row in df_subset.iterrows():\n",
    "    if row['t2m'] > 277:\n",
    "        consecutive_days += 1\n",
    "    else:\n",
    "        consecutive_days = 0\n",
    "#     print(consecutive_days,index)\n",
    "    \n",
    "    if consecutive_days >= 3:\n",
    "        df_subset.loc[index-2:index, 'Heatwave'] = 1\n",
    "#         df_subset.loc[index, 'Heatwave'] = 1\n",
    "        \n",
    "\n",
    "# Fill NaN values in the 'Heatwave' column with 0\n",
    "df_subset['Heatwave'].fillna(0, inplace=True)\n",
    "\n",
    "df_subset"
   ]
  }
 ],
 "metadata": {
  "kernelspec": {
   "display_name": "Python 3 (ipykernel)",
   "language": "python",
   "name": "python3"
  },
  "language_info": {
   "codemirror_mode": {
    "name": "ipython",
    "version": 3
   },
   "file_extension": ".py",
   "mimetype": "text/x-python",
   "name": "python",
   "nbconvert_exporter": "python",
   "pygments_lexer": "ipython3",
   "version": "3.11.4"
  }
 },
 "nbformat": 4,
 "nbformat_minor": 5
}
