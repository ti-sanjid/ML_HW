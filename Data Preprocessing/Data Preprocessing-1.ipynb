{
 "cells": [
  {
   "cell_type": "markdown",
   "id": "db8053cd",
   "metadata": {},
   "source": [
    "Data Preprocessing Log:\n",
    "\n",
    "* 05-09-2023: Started working on Data."
   ]
  },
  {
   "cell_type": "code",
   "execution_count": 1,
   "id": "09bb5edf",
   "metadata": {},
   "outputs": [],
   "source": [
    "import xarray as xr\n",
    "import numpy as np\n",
    "import matplotlib.pyplot as plt\n",
    "import pandas as pd\n",
    "from datetime import datetime, timedelta\n",
    "import warnings"
   ]
  },
  {
   "cell_type": "code",
   "execution_count": 2,
   "id": "7455df1c",
   "metadata": {},
   "outputs": [],
   "source": [
    "# !apt-get install -qq libgdal-dev libproj-dev\n",
    "# !pip install --no-binary shapely shapely --force\n",
    "# !pip install cartopy"
   ]
  },
  {
   "cell_type": "code",
   "execution_count": 3,
   "id": "706ab5b7",
   "metadata": {},
   "outputs": [],
   "source": [
    "import cartopy\n",
    "import cartopy.crs as ccrs\n",
    "import cartopy.feature as cfeature"
   ]
  },
  {
   "cell_type": "code",
   "execution_count": 4,
   "id": "0c94d57c",
   "metadata": {},
   "outputs": [],
   "source": [
    "path='/mnt/1A42C1DD42C1BE2F/MyProjects/ML_HEATWAVE/Air temperature/*.nc'\n",
    "\n",
    "data=xr.open_mfdataset(path)"
   ]
  },
  {
   "cell_type": "code",
   "execution_count": 5,
   "id": "2b2f9b2c",
   "metadata": {},
   "outputs": [
    {
     "data": {
      "text/html": [
       "<div><svg style=\"position: absolute; width: 0; height: 0; overflow: hidden\">\n",
       "<defs>\n",
       "<symbol id=\"icon-database\" viewBox=\"0 0 32 32\">\n",
       "<path d=\"M16 0c-8.837 0-16 2.239-16 5v4c0 2.761 7.163 5 16 5s16-2.239 16-5v-4c0-2.761-7.163-5-16-5z\"></path>\n",
       "<path d=\"M16 17c-8.837 0-16-2.239-16-5v6c0 2.761 7.163 5 16 5s16-2.239 16-5v-6c0 2.761-7.163 5-16 5z\"></path>\n",
       "<path d=\"M16 26c-8.837 0-16-2.239-16-5v6c0 2.761 7.163 5 16 5s16-2.239 16-5v-6c0 2.761-7.163 5-16 5z\"></path>\n",
       "</symbol>\n",
       "<symbol id=\"icon-file-text2\" viewBox=\"0 0 32 32\">\n",
       "<path d=\"M28.681 7.159c-0.694-0.947-1.662-2.053-2.724-3.116s-2.169-2.030-3.116-2.724c-1.612-1.182-2.393-1.319-2.841-1.319h-15.5c-1.378 0-2.5 1.121-2.5 2.5v27c0 1.378 1.122 2.5 2.5 2.5h23c1.378 0 2.5-1.122 2.5-2.5v-19.5c0-0.448-0.137-1.23-1.319-2.841zM24.543 5.457c0.959 0.959 1.712 1.825 2.268 2.543h-4.811v-4.811c0.718 0.556 1.584 1.309 2.543 2.268zM28 29.5c0 0.271-0.229 0.5-0.5 0.5h-23c-0.271 0-0.5-0.229-0.5-0.5v-27c0-0.271 0.229-0.5 0.5-0.5 0 0 15.499-0 15.5 0v7c0 0.552 0.448 1 1 1h7v19.5z\"></path>\n",
       "<path d=\"M23 26h-14c-0.552 0-1-0.448-1-1s0.448-1 1-1h14c0.552 0 1 0.448 1 1s-0.448 1-1 1z\"></path>\n",
       "<path d=\"M23 22h-14c-0.552 0-1-0.448-1-1s0.448-1 1-1h14c0.552 0 1 0.448 1 1s-0.448 1-1 1z\"></path>\n",
       "<path d=\"M23 18h-14c-0.552 0-1-0.448-1-1s0.448-1 1-1h14c0.552 0 1 0.448 1 1s-0.448 1-1 1z\"></path>\n",
       "</symbol>\n",
       "</defs>\n",
       "</svg>\n",
       "<style>/* CSS stylesheet for displaying xarray objects in jupyterlab.\n",
       " *\n",
       " */\n",
       "\n",
       ":root {\n",
       "  --xr-font-color0: var(--jp-content-font-color0, rgba(0, 0, 0, 1));\n",
       "  --xr-font-color2: var(--jp-content-font-color2, rgba(0, 0, 0, 0.54));\n",
       "  --xr-font-color3: var(--jp-content-font-color3, rgba(0, 0, 0, 0.38));\n",
       "  --xr-border-color: var(--jp-border-color2, #e0e0e0);\n",
       "  --xr-disabled-color: var(--jp-layout-color3, #bdbdbd);\n",
       "  --xr-background-color: var(--jp-layout-color0, white);\n",
       "  --xr-background-color-row-even: var(--jp-layout-color1, white);\n",
       "  --xr-background-color-row-odd: var(--jp-layout-color2, #eeeeee);\n",
       "}\n",
       "\n",
       "html[theme=dark],\n",
       "body[data-theme=dark],\n",
       "body.vscode-dark {\n",
       "  --xr-font-color0: rgba(255, 255, 255, 1);\n",
       "  --xr-font-color2: rgba(255, 255, 255, 0.54);\n",
       "  --xr-font-color3: rgba(255, 255, 255, 0.38);\n",
       "  --xr-border-color: #1F1F1F;\n",
       "  --xr-disabled-color: #515151;\n",
       "  --xr-background-color: #111111;\n",
       "  --xr-background-color-row-even: #111111;\n",
       "  --xr-background-color-row-odd: #313131;\n",
       "}\n",
       "\n",
       ".xr-wrap {\n",
       "  display: block !important;\n",
       "  min-width: 300px;\n",
       "  max-width: 700px;\n",
       "}\n",
       "\n",
       ".xr-text-repr-fallback {\n",
       "  /* fallback to plain text repr when CSS is not injected (untrusted notebook) */\n",
       "  display: none;\n",
       "}\n",
       "\n",
       ".xr-header {\n",
       "  padding-top: 6px;\n",
       "  padding-bottom: 6px;\n",
       "  margin-bottom: 4px;\n",
       "  border-bottom: solid 1px var(--xr-border-color);\n",
       "}\n",
       "\n",
       ".xr-header > div,\n",
       ".xr-header > ul {\n",
       "  display: inline;\n",
       "  margin-top: 0;\n",
       "  margin-bottom: 0;\n",
       "}\n",
       "\n",
       ".xr-obj-type,\n",
       ".xr-array-name {\n",
       "  margin-left: 2px;\n",
       "  margin-right: 10px;\n",
       "}\n",
       "\n",
       ".xr-obj-type {\n",
       "  color: var(--xr-font-color2);\n",
       "}\n",
       "\n",
       ".xr-sections {\n",
       "  padding-left: 0 !important;\n",
       "  display: grid;\n",
       "  grid-template-columns: 150px auto auto 1fr 20px 20px;\n",
       "}\n",
       "\n",
       ".xr-section-item {\n",
       "  display: contents;\n",
       "}\n",
       "\n",
       ".xr-section-item input {\n",
       "  display: none;\n",
       "}\n",
       "\n",
       ".xr-section-item input + label {\n",
       "  color: var(--xr-disabled-color);\n",
       "}\n",
       "\n",
       ".xr-section-item input:enabled + label {\n",
       "  cursor: pointer;\n",
       "  color: var(--xr-font-color2);\n",
       "}\n",
       "\n",
       ".xr-section-item input:enabled + label:hover {\n",
       "  color: var(--xr-font-color0);\n",
       "}\n",
       "\n",
       ".xr-section-summary {\n",
       "  grid-column: 1;\n",
       "  color: var(--xr-font-color2);\n",
       "  font-weight: 500;\n",
       "}\n",
       "\n",
       ".xr-section-summary > span {\n",
       "  display: inline-block;\n",
       "  padding-left: 0.5em;\n",
       "}\n",
       "\n",
       ".xr-section-summary-in:disabled + label {\n",
       "  color: var(--xr-font-color2);\n",
       "}\n",
       "\n",
       ".xr-section-summary-in + label:before {\n",
       "  display: inline-block;\n",
       "  content: '►';\n",
       "  font-size: 11px;\n",
       "  width: 15px;\n",
       "  text-align: center;\n",
       "}\n",
       "\n",
       ".xr-section-summary-in:disabled + label:before {\n",
       "  color: var(--xr-disabled-color);\n",
       "}\n",
       "\n",
       ".xr-section-summary-in:checked + label:before {\n",
       "  content: '▼';\n",
       "}\n",
       "\n",
       ".xr-section-summary-in:checked + label > span {\n",
       "  display: none;\n",
       "}\n",
       "\n",
       ".xr-section-summary,\n",
       ".xr-section-inline-details {\n",
       "  padding-top: 4px;\n",
       "  padding-bottom: 4px;\n",
       "}\n",
       "\n",
       ".xr-section-inline-details {\n",
       "  grid-column: 2 / -1;\n",
       "}\n",
       "\n",
       ".xr-section-details {\n",
       "  display: none;\n",
       "  grid-column: 1 / -1;\n",
       "  margin-bottom: 5px;\n",
       "}\n",
       "\n",
       ".xr-section-summary-in:checked ~ .xr-section-details {\n",
       "  display: contents;\n",
       "}\n",
       "\n",
       ".xr-array-wrap {\n",
       "  grid-column: 1 / -1;\n",
       "  display: grid;\n",
       "  grid-template-columns: 20px auto;\n",
       "}\n",
       "\n",
       ".xr-array-wrap > label {\n",
       "  grid-column: 1;\n",
       "  vertical-align: top;\n",
       "}\n",
       "\n",
       ".xr-preview {\n",
       "  color: var(--xr-font-color3);\n",
       "}\n",
       "\n",
       ".xr-array-preview,\n",
       ".xr-array-data {\n",
       "  padding: 0 5px !important;\n",
       "  grid-column: 2;\n",
       "}\n",
       "\n",
       ".xr-array-data,\n",
       ".xr-array-in:checked ~ .xr-array-preview {\n",
       "  display: none;\n",
       "}\n",
       "\n",
       ".xr-array-in:checked ~ .xr-array-data,\n",
       ".xr-array-preview {\n",
       "  display: inline-block;\n",
       "}\n",
       "\n",
       ".xr-dim-list {\n",
       "  display: inline-block !important;\n",
       "  list-style: none;\n",
       "  padding: 0 !important;\n",
       "  margin: 0;\n",
       "}\n",
       "\n",
       ".xr-dim-list li {\n",
       "  display: inline-block;\n",
       "  padding: 0;\n",
       "  margin: 0;\n",
       "}\n",
       "\n",
       ".xr-dim-list:before {\n",
       "  content: '(';\n",
       "}\n",
       "\n",
       ".xr-dim-list:after {\n",
       "  content: ')';\n",
       "}\n",
       "\n",
       ".xr-dim-list li:not(:last-child):after {\n",
       "  content: ',';\n",
       "  padding-right: 5px;\n",
       "}\n",
       "\n",
       ".xr-has-index {\n",
       "  font-weight: bold;\n",
       "}\n",
       "\n",
       ".xr-var-list,\n",
       ".xr-var-item {\n",
       "  display: contents;\n",
       "}\n",
       "\n",
       ".xr-var-item > div,\n",
       ".xr-var-item label,\n",
       ".xr-var-item > .xr-var-name span {\n",
       "  background-color: var(--xr-background-color-row-even);\n",
       "  margin-bottom: 0;\n",
       "}\n",
       "\n",
       ".xr-var-item > .xr-var-name:hover span {\n",
       "  padding-right: 5px;\n",
       "}\n",
       "\n",
       ".xr-var-list > li:nth-child(odd) > div,\n",
       ".xr-var-list > li:nth-child(odd) > label,\n",
       ".xr-var-list > li:nth-child(odd) > .xr-var-name span {\n",
       "  background-color: var(--xr-background-color-row-odd);\n",
       "}\n",
       "\n",
       ".xr-var-name {\n",
       "  grid-column: 1;\n",
       "}\n",
       "\n",
       ".xr-var-dims {\n",
       "  grid-column: 2;\n",
       "}\n",
       "\n",
       ".xr-var-dtype {\n",
       "  grid-column: 3;\n",
       "  text-align: right;\n",
       "  color: var(--xr-font-color2);\n",
       "}\n",
       "\n",
       ".xr-var-preview {\n",
       "  grid-column: 4;\n",
       "}\n",
       "\n",
       ".xr-index-preview {\n",
       "  grid-column: 2 / 5;\n",
       "  color: var(--xr-font-color2);\n",
       "}\n",
       "\n",
       ".xr-var-name,\n",
       ".xr-var-dims,\n",
       ".xr-var-dtype,\n",
       ".xr-preview,\n",
       ".xr-attrs dt {\n",
       "  white-space: nowrap;\n",
       "  overflow: hidden;\n",
       "  text-overflow: ellipsis;\n",
       "  padding-right: 10px;\n",
       "}\n",
       "\n",
       ".xr-var-name:hover,\n",
       ".xr-var-dims:hover,\n",
       ".xr-var-dtype:hover,\n",
       ".xr-attrs dt:hover {\n",
       "  overflow: visible;\n",
       "  width: auto;\n",
       "  z-index: 1;\n",
       "}\n",
       "\n",
       ".xr-var-attrs,\n",
       ".xr-var-data,\n",
       ".xr-index-data {\n",
       "  display: none;\n",
       "  background-color: var(--xr-background-color) !important;\n",
       "  padding-bottom: 5px !important;\n",
       "}\n",
       "\n",
       ".xr-var-attrs-in:checked ~ .xr-var-attrs,\n",
       ".xr-var-data-in:checked ~ .xr-var-data,\n",
       ".xr-index-data-in:checked ~ .xr-index-data {\n",
       "  display: block;\n",
       "}\n",
       "\n",
       ".xr-var-data > table {\n",
       "  float: right;\n",
       "}\n",
       "\n",
       ".xr-var-name span,\n",
       ".xr-var-data,\n",
       ".xr-index-name div,\n",
       ".xr-index-data,\n",
       ".xr-attrs {\n",
       "  padding-left: 25px !important;\n",
       "}\n",
       "\n",
       ".xr-attrs,\n",
       ".xr-var-attrs,\n",
       ".xr-var-data,\n",
       ".xr-index-data {\n",
       "  grid-column: 1 / -1;\n",
       "}\n",
       "\n",
       "dl.xr-attrs {\n",
       "  padding: 0;\n",
       "  margin: 0;\n",
       "  display: grid;\n",
       "  grid-template-columns: 125px auto;\n",
       "}\n",
       "\n",
       ".xr-attrs dt,\n",
       ".xr-attrs dd {\n",
       "  padding: 0;\n",
       "  margin: 0;\n",
       "  float: left;\n",
       "  padding-right: 10px;\n",
       "  width: auto;\n",
       "}\n",
       "\n",
       ".xr-attrs dt {\n",
       "  font-weight: normal;\n",
       "  grid-column: 1;\n",
       "}\n",
       "\n",
       ".xr-attrs dt:hover span {\n",
       "  display: inline-block;\n",
       "  background: var(--xr-background-color);\n",
       "  padding-right: 10px;\n",
       "}\n",
       "\n",
       ".xr-attrs dd {\n",
       "  grid-column: 2;\n",
       "  white-space: pre-wrap;\n",
       "  word-break: break-all;\n",
       "}\n",
       "\n",
       ".xr-icon-database,\n",
       ".xr-icon-file-text2,\n",
       ".xr-no-icon {\n",
       "  display: inline-block;\n",
       "  vertical-align: middle;\n",
       "  width: 1em;\n",
       "  height: 1.5em !important;\n",
       "  stroke-width: 0;\n",
       "  stroke: currentColor;\n",
       "  fill: currentColor;\n",
       "}\n",
       "</style><pre class='xr-text-repr-fallback'>&lt;xarray.Dataset&gt;\n",
       "Dimensions:    (lat: 94, lon: 192, time: 15340, nbnds: 2)\n",
       "Coordinates:\n",
       "  * lat        (lat) float32 88.54 86.65 84.75 82.85 ... -84.75 -86.65 -88.54\n",
       "  * lon        (lon) float32 0.0 1.875 3.75 5.625 ... 352.5 354.4 356.2 358.1\n",
       "  * time       (time) datetime64[ns] 1981-01-01 1981-01-02 ... 2022-12-31\n",
       "Dimensions without coordinates: nbnds\n",
       "Data variables:\n",
       "    air        (time, lat, lon) float32 dask.array&lt;chunksize=(365, 94, 192), meta=np.ndarray&gt;\n",
       "    time_bnds  (time, nbnds) float64 dask.array&lt;chunksize=(365, 2), meta=np.ndarray&gt;\n",
       "Attributes:\n",
       "    Conventions:    COARDS\n",
       "    title:          mean daily NMC reanalysis (1981)\n",
       "    description:    Data is from NMC initialized reanalysis\\n(4x/day).  It co...\n",
       "    platform:       Model\n",
       "    history:        created 95/03/13 by Hoop (netCDF2.3)\\nConverted to chunke...\n",
       "    dataset_title:  NCEP-NCAR Reanalysis 1\n",
       "    References:     http://www.psl.noaa.gov/data/gridded/data.ncep.reanalysis...</pre><div class='xr-wrap' style='display:none'><div class='xr-header'><div class='xr-obj-type'>xarray.Dataset</div></div><ul class='xr-sections'><li class='xr-section-item'><input id='section-1668aebd-a418-457d-a779-6d68e1b03f96' class='xr-section-summary-in' type='checkbox' disabled ><label for='section-1668aebd-a418-457d-a779-6d68e1b03f96' class='xr-section-summary'  title='Expand/collapse section'>Dimensions:</label><div class='xr-section-inline-details'><ul class='xr-dim-list'><li><span class='xr-has-index'>lat</span>: 94</li><li><span class='xr-has-index'>lon</span>: 192</li><li><span class='xr-has-index'>time</span>: 15340</li><li><span>nbnds</span>: 2</li></ul></div><div class='xr-section-details'></div></li><li class='xr-section-item'><input id='section-57137c8d-151b-4ee7-b467-55994e7bb3c9' class='xr-section-summary-in' type='checkbox'  checked><label for='section-57137c8d-151b-4ee7-b467-55994e7bb3c9' class='xr-section-summary' >Coordinates: <span>(3)</span></label><div class='xr-section-inline-details'></div><div class='xr-section-details'><ul class='xr-var-list'><li class='xr-var-item'><div class='xr-var-name'><span class='xr-has-index'>lat</span></div><div class='xr-var-dims'>(lat)</div><div class='xr-var-dtype'>float32</div><div class='xr-var-preview xr-preview'>88.54 86.65 84.75 ... -86.65 -88.54</div><input id='attrs-4ee4eb84-64e7-4890-a808-4e21745d228d' class='xr-var-attrs-in' type='checkbox' ><label for='attrs-4ee4eb84-64e7-4890-a808-4e21745d228d' title='Show/Hide attributes'><svg class='icon xr-icon-file-text2'><use xlink:href='#icon-file-text2'></use></svg></label><input id='data-26e863d8-365c-4432-b41d-df2c1b7eb227' class='xr-var-data-in' type='checkbox'><label for='data-26e863d8-365c-4432-b41d-df2c1b7eb227' title='Show/Hide data repr'><svg class='icon xr-icon-database'><use xlink:href='#icon-database'></use></svg></label><div class='xr-var-attrs'><dl class='xr-attrs'><dt><span>units :</span></dt><dd>degrees_north</dd><dt><span>actual_range :</span></dt><dd>[ 88.542 -88.542]</dd><dt><span>long_name :</span></dt><dd>Latitude</dd><dt><span>standard_name :</span></dt><dd>latitude</dd><dt><span>axis :</span></dt><dd>Y</dd></dl></div><div class='xr-var-data'><pre>array([ 88.542   ,  86.6531  ,  84.7532  ,  82.8508  ,  80.9473  ,  79.0435  ,\n",
       "        77.1394  ,  75.2351  ,  73.3307  ,  71.4262  ,  69.5217  ,  67.6171  ,\n",
       "        65.7125  ,  63.8079  ,  61.9033  ,  59.9986  ,  58.0939  ,  56.1893  ,\n",
       "        54.2846  ,  52.3799  ,  50.4752  ,  48.5705  ,  46.6658  ,  44.7611  ,\n",
       "        42.8564  ,  40.9517  ,  39.047   ,  37.1422  ,  35.2375  ,  33.3328  ,\n",
       "        31.4281  ,  29.5234  ,  27.6186  ,  25.7139  ,  23.8092  ,  21.9044  ,\n",
       "        19.9997  ,  18.095   ,  16.1902  ,  14.2855  ,  12.3808  ,  10.47604 ,\n",
       "         8.57131 ,   6.66657 ,   4.76184 ,   2.8571  ,   0.952368,  -0.952368,\n",
       "        -2.8571  ,  -4.76184 ,  -6.66657 ,  -8.57131 , -10.47604 , -12.3808  ,\n",
       "       -14.2855  , -16.1902  , -18.095   , -19.9997  , -21.9044  , -23.8092  ,\n",
       "       -25.7139  , -27.6186  , -29.5234  , -31.4281  , -33.3328  , -35.2375  ,\n",
       "       -37.1422  , -39.047   , -40.9517  , -42.8564  , -44.7611  , -46.6658  ,\n",
       "       -48.5705  , -50.4752  , -52.3799  , -54.2846  , -56.1893  , -58.0939  ,\n",
       "       -59.9986  , -61.9033  , -63.8079  , -65.7125  , -67.6171  , -69.5217  ,\n",
       "       -71.4262  , -73.3307  , -75.2351  , -77.1394  , -79.0435  , -80.9473  ,\n",
       "       -82.8508  , -84.7532  , -86.6531  , -88.542   ], dtype=float32)</pre></div></li><li class='xr-var-item'><div class='xr-var-name'><span class='xr-has-index'>lon</span></div><div class='xr-var-dims'>(lon)</div><div class='xr-var-dtype'>float32</div><div class='xr-var-preview xr-preview'>0.0 1.875 3.75 ... 356.2 358.1</div><input id='attrs-ed3ec157-69d4-4812-9b5d-522f67df46d9' class='xr-var-attrs-in' type='checkbox' ><label for='attrs-ed3ec157-69d4-4812-9b5d-522f67df46d9' title='Show/Hide attributes'><svg class='icon xr-icon-file-text2'><use xlink:href='#icon-file-text2'></use></svg></label><input id='data-c0c42a88-be9f-4ac8-95ca-e1dea3a4e533' class='xr-var-data-in' type='checkbox'><label for='data-c0c42a88-be9f-4ac8-95ca-e1dea3a4e533' title='Show/Hide data repr'><svg class='icon xr-icon-database'><use xlink:href='#icon-database'></use></svg></label><div class='xr-var-attrs'><dl class='xr-attrs'><dt><span>units :</span></dt><dd>degrees_east</dd><dt><span>long_name :</span></dt><dd>Longitude</dd><dt><span>actual_range :</span></dt><dd>[  0.    358.125]</dd><dt><span>standard_name :</span></dt><dd>longitude</dd><dt><span>axis :</span></dt><dd>X</dd></dl></div><div class='xr-var-data'><pre>array([  0.   ,   1.875,   3.75 ,   5.625,   7.5  ,   9.375,  11.25 ,  13.125,\n",
       "        15.   ,  16.875,  18.75 ,  20.625,  22.5  ,  24.375,  26.25 ,  28.125,\n",
       "        30.   ,  31.875,  33.75 ,  35.625,  37.5  ,  39.375,  41.25 ,  43.125,\n",
       "        45.   ,  46.875,  48.75 ,  50.625,  52.5  ,  54.375,  56.25 ,  58.125,\n",
       "        60.   ,  61.875,  63.75 ,  65.625,  67.5  ,  69.375,  71.25 ,  73.125,\n",
       "        75.   ,  76.875,  78.75 ,  80.625,  82.5  ,  84.375,  86.25 ,  88.125,\n",
       "        90.   ,  91.875,  93.75 ,  95.625,  97.5  ,  99.375, 101.25 , 103.125,\n",
       "       105.   , 106.875, 108.75 , 110.625, 112.5  , 114.375, 116.25 , 118.125,\n",
       "       120.   , 121.875, 123.75 , 125.625, 127.5  , 129.375, 131.25 , 133.125,\n",
       "       135.   , 136.875, 138.75 , 140.625, 142.5  , 144.375, 146.25 , 148.125,\n",
       "       150.   , 151.875, 153.75 , 155.625, 157.5  , 159.375, 161.25 , 163.125,\n",
       "       165.   , 166.875, 168.75 , 170.625, 172.5  , 174.375, 176.25 , 178.125,\n",
       "       180.   , 181.875, 183.75 , 185.625, 187.5  , 189.375, 191.25 , 193.125,\n",
       "       195.   , 196.875, 198.75 , 200.625, 202.5  , 204.375, 206.25 , 208.125,\n",
       "       210.   , 211.875, 213.75 , 215.625, 217.5  , 219.375, 221.25 , 223.125,\n",
       "       225.   , 226.875, 228.75 , 230.625, 232.5  , 234.375, 236.25 , 238.125,\n",
       "       240.   , 241.875, 243.75 , 245.625, 247.5  , 249.375, 251.25 , 253.125,\n",
       "       255.   , 256.875, 258.75 , 260.625, 262.5  , 264.375, 266.25 , 268.125,\n",
       "       270.   , 271.875, 273.75 , 275.625, 277.5  , 279.375, 281.25 , 283.125,\n",
       "       285.   , 286.875, 288.75 , 290.625, 292.5  , 294.375, 296.25 , 298.125,\n",
       "       300.   , 301.875, 303.75 , 305.625, 307.5  , 309.375, 311.25 , 313.125,\n",
       "       315.   , 316.875, 318.75 , 320.625, 322.5  , 324.375, 326.25 , 328.125,\n",
       "       330.   , 331.875, 333.75 , 335.625, 337.5  , 339.375, 341.25 , 343.125,\n",
       "       345.   , 346.875, 348.75 , 350.625, 352.5  , 354.375, 356.25 , 358.125],\n",
       "      dtype=float32)</pre></div></li><li class='xr-var-item'><div class='xr-var-name'><span class='xr-has-index'>time</span></div><div class='xr-var-dims'>(time)</div><div class='xr-var-dtype'>datetime64[ns]</div><div class='xr-var-preview xr-preview'>1981-01-01 ... 2022-12-31</div><input id='attrs-85a751ea-bf57-40b0-85a1-f2e94ac389ec' class='xr-var-attrs-in' type='checkbox' ><label for='attrs-85a751ea-bf57-40b0-85a1-f2e94ac389ec' title='Show/Hide attributes'><svg class='icon xr-icon-file-text2'><use xlink:href='#icon-file-text2'></use></svg></label><input id='data-2e785568-2ab2-48ba-b0b3-bf3976835322' class='xr-var-data-in' type='checkbox'><label for='data-2e785568-2ab2-48ba-b0b3-bf3976835322' title='Show/Hide data repr'><svg class='icon xr-icon-database'><use xlink:href='#icon-database'></use></svg></label><div class='xr-var-attrs'><dl class='xr-attrs'><dt><span>long_name :</span></dt><dd>Time</dd><dt><span>delta_t :</span></dt><dd>0000-00-01 00:00:00</dd><dt><span>avg_period :</span></dt><dd>0000-00-01 00:00:00</dd><dt><span>standard_name :</span></dt><dd>time</dd><dt><span>axis :</span></dt><dd>T</dd><dt><span>actual_range :</span></dt><dd>[1586616. 1595352.]</dd><dt><span>coordinate_defines :</span></dt><dd>start</dd></dl></div><div class='xr-var-data'><pre>array([&#x27;1981-01-01T00:00:00.000000000&#x27;, &#x27;1981-01-02T00:00:00.000000000&#x27;,\n",
       "       &#x27;1981-01-03T00:00:00.000000000&#x27;, ..., &#x27;2022-12-29T00:00:00.000000000&#x27;,\n",
       "       &#x27;2022-12-30T00:00:00.000000000&#x27;, &#x27;2022-12-31T00:00:00.000000000&#x27;],\n",
       "      dtype=&#x27;datetime64[ns]&#x27;)</pre></div></li></ul></div></li><li class='xr-section-item'><input id='section-ecc76e34-e5ac-452d-906e-06ece1fc1004' class='xr-section-summary-in' type='checkbox'  checked><label for='section-ecc76e34-e5ac-452d-906e-06ece1fc1004' class='xr-section-summary' >Data variables: <span>(2)</span></label><div class='xr-section-inline-details'></div><div class='xr-section-details'><ul class='xr-var-list'><li class='xr-var-item'><div class='xr-var-name'><span>air</span></div><div class='xr-var-dims'>(time, lat, lon)</div><div class='xr-var-dtype'>float32</div><div class='xr-var-preview xr-preview'>dask.array&lt;chunksize=(365, 94, 192), meta=np.ndarray&gt;</div><input id='attrs-b79cad61-6049-465f-a7c8-fbe5a9d06608' class='xr-var-attrs-in' type='checkbox' ><label for='attrs-b79cad61-6049-465f-a7c8-fbe5a9d06608' title='Show/Hide attributes'><svg class='icon xr-icon-file-text2'><use xlink:href='#icon-file-text2'></use></svg></label><input id='data-c8c80ece-3faf-46e6-a6a8-8ab5fa1e0bc5' class='xr-var-data-in' type='checkbox'><label for='data-c8c80ece-3faf-46e6-a6a8-8ab5fa1e0bc5' title='Show/Hide data repr'><svg class='icon xr-icon-database'><use xlink:href='#icon-database'></use></svg></label><div class='xr-var-attrs'><dl class='xr-attrs'><dt><span>long_name :</span></dt><dd>mean Daily Air temperature at 2 m</dd><dt><span>units :</span></dt><dd>degK</dd><dt><span>precision :</span></dt><dd>2</dd><dt><span>GRIB_id :</span></dt><dd>11</dd><dt><span>GRIB_name :</span></dt><dd>TMP</dd><dt><span>var_desc :</span></dt><dd>Air temperature</dd><dt><span>dataset :</span></dt><dd>NCEP Reanalysis Daily Averages</dd><dt><span>level_desc :</span></dt><dd>2 m</dd><dt><span>statistic :</span></dt><dd>Mean</dd><dt><span>parent_stat :</span></dt><dd>Individual Obs</dd><dt><span>actual_range :</span></dt><dd>[177.68 316.55]</dd><dt><span>valid_range :</span></dt><dd>[150. 400.]</dd></dl></div><div class='xr-var-data'><table>\n",
       "    <tr>\n",
       "        <td>\n",
       "            <table style=\"border-collapse: collapse;\">\n",
       "                <thead>\n",
       "                    <tr>\n",
       "                        <td> </td>\n",
       "                        <th> Array </th>\n",
       "                        <th> Chunk </th>\n",
       "                    </tr>\n",
       "                </thead>\n",
       "                <tbody>\n",
       "                    \n",
       "                    <tr>\n",
       "                        <th> Bytes </th>\n",
       "                        <td> 1.03 GiB </td>\n",
       "                        <td> 25.20 MiB </td>\n",
       "                    </tr>\n",
       "                    \n",
       "                    <tr>\n",
       "                        <th> Shape </th>\n",
       "                        <td> (15340, 94, 192) </td>\n",
       "                        <td> (366, 94, 192) </td>\n",
       "                    </tr>\n",
       "                    <tr>\n",
       "                        <th> Dask graph </th>\n",
       "                        <td colspan=\"2\"> 42 chunks in 85 graph layers </td>\n",
       "                    </tr>\n",
       "                    <tr>\n",
       "                        <th> Data type </th>\n",
       "                        <td colspan=\"2\"> float32 numpy.ndarray </td>\n",
       "                    </tr>\n",
       "                </tbody>\n",
       "            </table>\n",
       "        </td>\n",
       "        <td>\n",
       "        <svg width=\"157\" height=\"146\" style=\"stroke:rgb(0,0,0);stroke-width:1\" >\n",
       "\n",
       "  <!-- Horizontal lines -->\n",
       "  <line x1=\"10\" y1=\"0\" x2=\"80\" y2=\"70\" style=\"stroke-width:2\" />\n",
       "  <line x1=\"10\" y1=\"25\" x2=\"80\" y2=\"96\" style=\"stroke-width:2\" />\n",
       "\n",
       "  <!-- Vertical lines -->\n",
       "  <line x1=\"10\" y1=\"0\" x2=\"10\" y2=\"25\" style=\"stroke-width:2\" />\n",
       "  <line x1=\"13\" y1=\"3\" x2=\"13\" y2=\"28\" />\n",
       "  <line x1=\"16\" y1=\"6\" x2=\"16\" y2=\"32\" />\n",
       "  <line x1=\"20\" y1=\"10\" x2=\"20\" y2=\"35\" />\n",
       "  <line x1=\"23\" y1=\"13\" x2=\"23\" y2=\"38\" />\n",
       "  <line x1=\"28\" y1=\"18\" x2=\"28\" y2=\"43\" />\n",
       "  <line x1=\"31\" y1=\"21\" x2=\"31\" y2=\"47\" />\n",
       "  <line x1=\"35\" y1=\"25\" x2=\"35\" y2=\"50\" />\n",
       "  <line x1=\"38\" y1=\"28\" x2=\"38\" y2=\"53\" />\n",
       "  <line x1=\"41\" y1=\"31\" x2=\"41\" y2=\"57\" />\n",
       "  <line x1=\"46\" y1=\"36\" x2=\"46\" y2=\"62\" />\n",
       "  <line x1=\"50\" y1=\"40\" x2=\"50\" y2=\"65\" />\n",
       "  <line x1=\"53\" y1=\"43\" x2=\"53\" y2=\"69\" />\n",
       "  <line x1=\"57\" y1=\"47\" x2=\"57\" y2=\"72\" />\n",
       "  <line x1=\"60\" y1=\"50\" x2=\"60\" y2=\"75\" />\n",
       "  <line x1=\"65\" y1=\"55\" x2=\"65\" y2=\"80\" />\n",
       "  <line x1=\"68\" y1=\"58\" x2=\"68\" y2=\"84\" />\n",
       "  <line x1=\"72\" y1=\"62\" x2=\"72\" y2=\"87\" />\n",
       "  <line x1=\"75\" y1=\"65\" x2=\"75\" y2=\"90\" />\n",
       "  <line x1=\"80\" y1=\"70\" x2=\"80\" y2=\"96\" style=\"stroke-width:2\" />\n",
       "\n",
       "  <!-- Colored Rectangle -->\n",
       "  <polygon points=\"10.0,0.0 80.58823529411765,70.58823529411765 80.58823529411765,96.00085180870013 10.0,25.412616514582485\" style=\"fill:#8B4903A0;stroke-width:0\"/>\n",
       "\n",
       "  <!-- Horizontal lines -->\n",
       "  <line x1=\"10\" y1=\"0\" x2=\"36\" y2=\"0\" style=\"stroke-width:2\" />\n",
       "  <line x1=\"13\" y1=\"3\" x2=\"39\" y2=\"3\" />\n",
       "  <line x1=\"16\" y1=\"6\" x2=\"43\" y2=\"6\" />\n",
       "  <line x1=\"20\" y1=\"10\" x2=\"46\" y2=\"10\" />\n",
       "  <line x1=\"23\" y1=\"13\" x2=\"49\" y2=\"13\" />\n",
       "  <line x1=\"28\" y1=\"18\" x2=\"55\" y2=\"18\" />\n",
       "  <line x1=\"31\" y1=\"21\" x2=\"58\" y2=\"21\" />\n",
       "  <line x1=\"35\" y1=\"25\" x2=\"61\" y2=\"25\" />\n",
       "  <line x1=\"38\" y1=\"28\" x2=\"65\" y2=\"28\" />\n",
       "  <line x1=\"41\" y1=\"31\" x2=\"68\" y2=\"31\" />\n",
       "  <line x1=\"46\" y1=\"36\" x2=\"73\" y2=\"36\" />\n",
       "  <line x1=\"50\" y1=\"40\" x2=\"76\" y2=\"40\" />\n",
       "  <line x1=\"53\" y1=\"43\" x2=\"80\" y2=\"43\" />\n",
       "  <line x1=\"57\" y1=\"47\" x2=\"83\" y2=\"47\" />\n",
       "  <line x1=\"60\" y1=\"50\" x2=\"86\" y2=\"50\" />\n",
       "  <line x1=\"65\" y1=\"55\" x2=\"91\" y2=\"55\" />\n",
       "  <line x1=\"68\" y1=\"58\" x2=\"95\" y2=\"58\" />\n",
       "  <line x1=\"72\" y1=\"62\" x2=\"98\" y2=\"62\" />\n",
       "  <line x1=\"75\" y1=\"65\" x2=\"102\" y2=\"65\" />\n",
       "  <line x1=\"80\" y1=\"70\" x2=\"107\" y2=\"70\" style=\"stroke-width:2\" />\n",
       "\n",
       "  <!-- Vertical lines -->\n",
       "  <line x1=\"10\" y1=\"0\" x2=\"80\" y2=\"70\" style=\"stroke-width:2\" />\n",
       "  <line x1=\"36\" y1=\"0\" x2=\"107\" y2=\"70\" style=\"stroke-width:2\" />\n",
       "\n",
       "  <!-- Colored Rectangle -->\n",
       "  <polygon points=\"10.0,0.0 36.51934288986725,0.0 107.1075781839849,70.58823529411765 80.58823529411765,70.58823529411765\" style=\"fill:#8B4903A0;stroke-width:0\"/>\n",
       "\n",
       "  <!-- Horizontal lines -->\n",
       "  <line x1=\"80\" y1=\"70\" x2=\"107\" y2=\"70\" style=\"stroke-width:2\" />\n",
       "  <line x1=\"80\" y1=\"96\" x2=\"107\" y2=\"96\" style=\"stroke-width:2\" />\n",
       "\n",
       "  <!-- Vertical lines -->\n",
       "  <line x1=\"80\" y1=\"70\" x2=\"80\" y2=\"96\" style=\"stroke-width:2\" />\n",
       "  <line x1=\"107\" y1=\"70\" x2=\"107\" y2=\"96\" style=\"stroke-width:2\" />\n",
       "\n",
       "  <!-- Colored Rectangle -->\n",
       "  <polygon points=\"80.58823529411765,70.58823529411765 107.1075781839849,70.58823529411765 107.1075781839849,96.00085180870013 80.58823529411765,96.00085180870013\" style=\"fill:#ECB172A0;stroke-width:0\"/>\n",
       "\n",
       "  <!-- Text -->\n",
       "  <text x=\"93.847907\" y=\"116.000852\" font-size=\"1.0rem\" font-weight=\"100\" text-anchor=\"middle\" >192</text>\n",
       "  <text x=\"127.107578\" y=\"83.294544\" font-size=\"1.0rem\" font-weight=\"100\" text-anchor=\"middle\" transform=\"rotate(0,127.107578,83.294544)\">94</text>\n",
       "  <text x=\"35.294118\" y=\"80.706734\" font-size=\"1.0rem\" font-weight=\"100\" text-anchor=\"middle\" transform=\"rotate(45,35.294118,80.706734)\">15340</text>\n",
       "</svg>\n",
       "        </td>\n",
       "    </tr>\n",
       "</table></div></li><li class='xr-var-item'><div class='xr-var-name'><span>time_bnds</span></div><div class='xr-var-dims'>(time, nbnds)</div><div class='xr-var-dtype'>float64</div><div class='xr-var-preview xr-preview'>dask.array&lt;chunksize=(365, 2), meta=np.ndarray&gt;</div><input id='attrs-f3ce8a50-0a9d-47b0-8294-de91cf4cecbc' class='xr-var-attrs-in' type='checkbox' disabled><label for='attrs-f3ce8a50-0a9d-47b0-8294-de91cf4cecbc' title='Show/Hide attributes'><svg class='icon xr-icon-file-text2'><use xlink:href='#icon-file-text2'></use></svg></label><input id='data-82051c5f-0dac-43fe-897f-c0333a2101d3' class='xr-var-data-in' type='checkbox'><label for='data-82051c5f-0dac-43fe-897f-c0333a2101d3' title='Show/Hide data repr'><svg class='icon xr-icon-database'><use xlink:href='#icon-database'></use></svg></label><div class='xr-var-attrs'><dl class='xr-attrs'></dl></div><div class='xr-var-data'><table>\n",
       "    <tr>\n",
       "        <td>\n",
       "            <table style=\"border-collapse: collapse;\">\n",
       "                <thead>\n",
       "                    <tr>\n",
       "                        <td> </td>\n",
       "                        <th> Array </th>\n",
       "                        <th> Chunk </th>\n",
       "                    </tr>\n",
       "                </thead>\n",
       "                <tbody>\n",
       "                    \n",
       "                    <tr>\n",
       "                        <th> Bytes </th>\n",
       "                        <td> 239.69 kiB </td>\n",
       "                        <td> 5.72 kiB </td>\n",
       "                    </tr>\n",
       "                    \n",
       "                    <tr>\n",
       "                        <th> Shape </th>\n",
       "                        <td> (15340, 2) </td>\n",
       "                        <td> (366, 2) </td>\n",
       "                    </tr>\n",
       "                    <tr>\n",
       "                        <th> Dask graph </th>\n",
       "                        <td colspan=\"2\"> 42 chunks in 85 graph layers </td>\n",
       "                    </tr>\n",
       "                    <tr>\n",
       "                        <th> Data type </th>\n",
       "                        <td colspan=\"2\"> float64 numpy.ndarray </td>\n",
       "                    </tr>\n",
       "                </tbody>\n",
       "            </table>\n",
       "        </td>\n",
       "        <td>\n",
       "        <svg width=\"75\" height=\"170\" style=\"stroke:rgb(0,0,0);stroke-width:1\" >\n",
       "\n",
       "  <!-- Horizontal lines -->\n",
       "  <line x1=\"0\" y1=\"0\" x2=\"25\" y2=\"0\" style=\"stroke-width:2\" />\n",
       "  <line x1=\"0\" y1=\"5\" x2=\"25\" y2=\"5\" />\n",
       "  <line x1=\"0\" y1=\"11\" x2=\"25\" y2=\"11\" />\n",
       "  <line x1=\"0\" y1=\"17\" x2=\"25\" y2=\"17\" />\n",
       "  <line x1=\"0\" y1=\"22\" x2=\"25\" y2=\"22\" />\n",
       "  <line x1=\"0\" y1=\"31\" x2=\"25\" y2=\"31\" />\n",
       "  <line x1=\"0\" y1=\"37\" x2=\"25\" y2=\"37\" />\n",
       "  <line x1=\"0\" y1=\"42\" x2=\"25\" y2=\"42\" />\n",
       "  <line x1=\"0\" y1=\"48\" x2=\"25\" y2=\"48\" />\n",
       "  <line x1=\"0\" y1=\"54\" x2=\"25\" y2=\"54\" />\n",
       "  <line x1=\"0\" y1=\"62\" x2=\"25\" y2=\"62\" />\n",
       "  <line x1=\"0\" y1=\"68\" x2=\"25\" y2=\"68\" />\n",
       "  <line x1=\"0\" y1=\"74\" x2=\"25\" y2=\"74\" />\n",
       "  <line x1=\"0\" y1=\"80\" x2=\"25\" y2=\"80\" />\n",
       "  <line x1=\"0\" y1=\"85\" x2=\"25\" y2=\"85\" />\n",
       "  <line x1=\"0\" y1=\"94\" x2=\"25\" y2=\"94\" />\n",
       "  <line x1=\"0\" y1=\"99\" x2=\"25\" y2=\"99\" />\n",
       "  <line x1=\"0\" y1=\"105\" x2=\"25\" y2=\"105\" />\n",
       "  <line x1=\"0\" y1=\"111\" x2=\"25\" y2=\"111\" />\n",
       "  <line x1=\"0\" y1=\"120\" x2=\"25\" y2=\"120\" style=\"stroke-width:2\" />\n",
       "\n",
       "  <!-- Vertical lines -->\n",
       "  <line x1=\"0\" y1=\"0\" x2=\"0\" y2=\"120\" style=\"stroke-width:2\" />\n",
       "  <line x1=\"25\" y1=\"0\" x2=\"25\" y2=\"120\" style=\"stroke-width:2\" />\n",
       "\n",
       "  <!-- Colored Rectangle -->\n",
       "  <polygon points=\"0.0,0.0 25.412616514582485,0.0 25.412616514582485,120.0 0.0,120.0\" style=\"fill:#8B4903A0;stroke-width:0\"/>\n",
       "\n",
       "  <!-- Text -->\n",
       "  <text x=\"12.706308\" y=\"140.000000\" font-size=\"1.0rem\" font-weight=\"100\" text-anchor=\"middle\" >2</text>\n",
       "  <text x=\"45.412617\" y=\"60.000000\" font-size=\"1.0rem\" font-weight=\"100\" text-anchor=\"middle\" transform=\"rotate(-90,45.412617,60.000000)\">15340</text>\n",
       "</svg>\n",
       "        </td>\n",
       "    </tr>\n",
       "</table></div></li></ul></div></li><li class='xr-section-item'><input id='section-9994a85b-a103-4e9e-916a-82273652bb30' class='xr-section-summary-in' type='checkbox'  ><label for='section-9994a85b-a103-4e9e-916a-82273652bb30' class='xr-section-summary' >Indexes: <span>(3)</span></label><div class='xr-section-inline-details'></div><div class='xr-section-details'><ul class='xr-var-list'><li class='xr-var-item'><div class='xr-index-name'><div>lat</div></div><div class='xr-index-preview'>PandasIndex</div><div></div><input id='index-3147fb53-6bcc-4d31-a20d-0baf10a5e75f' class='xr-index-data-in' type='checkbox'/><label for='index-3147fb53-6bcc-4d31-a20d-0baf10a5e75f' title='Show/Hide index repr'><svg class='icon xr-icon-database'><use xlink:href='#icon-database'></use></svg></label><div class='xr-index-data'><pre>PandasIndex(Float64Index([  88.54199981689453,    86.6530990600586,    84.7531967163086,\n",
       "                82.85079956054688,   80.94730377197266,   79.04350280761719,\n",
       "                77.13939666748047,   75.23509979248047,   73.33070373535156,\n",
       "                71.42620086669922,   69.52169799804688,   67.61710357666016,\n",
       "                 65.7125015258789,  63.807899475097656,   61.90330123901367,\n",
       "               59.998600006103516,   58.09389877319336,  56.189300537109375,\n",
       "                54.28459930419922,   52.37990188598633,   50.47520065307617,\n",
       "               48.570499420166016,   46.66579818725586,   44.76110076904297,\n",
       "                42.85639953613281,  40.951698303222656,  39.047000885009766,\n",
       "                 37.1422004699707,   35.23749923706055,  33.332801818847656,\n",
       "                 31.4281005859375,  29.523399353027344,  27.618600845336914,\n",
       "               25.713899612426758,  23.809200286865234,  21.904399871826172,\n",
       "                19.99970054626465,  18.094999313354492,  16.190200805664062,\n",
       "               14.285499572753906,  12.380800247192383,   10.47603988647461,\n",
       "                8.571310043334961,    6.66657018661499,   4.761839866638184,\n",
       "                2.857100009918213,  0.9523680210113525, -0.9523680210113525,\n",
       "               -2.857100009918213,  -4.761839866638184,   -6.66657018661499,\n",
       "               -8.571310043334961,  -10.47603988647461, -12.380800247192383,\n",
       "              -14.285499572753906, -16.190200805664062, -18.094999313354492,\n",
       "               -19.99970054626465, -21.904399871826172, -23.809200286865234,\n",
       "              -25.713899612426758, -27.618600845336914, -29.523399353027344,\n",
       "                -31.4281005859375, -33.332801818847656,  -35.23749923706055,\n",
       "                -37.1422004699707, -39.047000885009766, -40.951698303222656,\n",
       "               -42.85639953613281,  -44.76110076904297,  -46.66579818725586,\n",
       "              -48.570499420166016,  -50.47520065307617,  -52.37990188598633,\n",
       "               -54.28459930419922, -56.189300537109375,  -58.09389877319336,\n",
       "              -59.998600006103516,  -61.90330123901367, -63.807899475097656,\n",
       "                -65.7125015258789,  -67.61710357666016,  -69.52169799804688,\n",
       "               -71.42620086669922,  -73.33070373535156,  -75.23509979248047,\n",
       "               -77.13939666748047,  -79.04350280761719,  -80.94730377197266,\n",
       "               -82.85079956054688,   -84.7531967163086,   -86.6530990600586,\n",
       "               -88.54199981689453],\n",
       "             dtype=&#x27;float64&#x27;, name=&#x27;lat&#x27;))</pre></div></li><li class='xr-var-item'><div class='xr-index-name'><div>lon</div></div><div class='xr-index-preview'>PandasIndex</div><div></div><input id='index-a51bf327-ebfe-4f1b-b161-aac092f4e464' class='xr-index-data-in' type='checkbox'/><label for='index-a51bf327-ebfe-4f1b-b161-aac092f4e464' title='Show/Hide index repr'><svg class='icon xr-icon-database'><use xlink:href='#icon-database'></use></svg></label><div class='xr-index-data'><pre>PandasIndex(Float64Index([    0.0,   1.875,    3.75,   5.625,     7.5,   9.375,   11.25,\n",
       "               13.125,    15.0,  16.875,\n",
       "              ...\n",
       "               341.25, 343.125,   345.0, 346.875,  348.75, 350.625,   352.5,\n",
       "              354.375,  356.25, 358.125],\n",
       "             dtype=&#x27;float64&#x27;, name=&#x27;lon&#x27;, length=192))</pre></div></li><li class='xr-var-item'><div class='xr-index-name'><div>time</div></div><div class='xr-index-preview'>PandasIndex</div><div></div><input id='index-b0882be0-9161-4e15-bde4-395d87be2f49' class='xr-index-data-in' type='checkbox'/><label for='index-b0882be0-9161-4e15-bde4-395d87be2f49' title='Show/Hide index repr'><svg class='icon xr-icon-database'><use xlink:href='#icon-database'></use></svg></label><div class='xr-index-data'><pre>PandasIndex(DatetimeIndex([&#x27;1981-01-01&#x27;, &#x27;1981-01-02&#x27;, &#x27;1981-01-03&#x27;, &#x27;1981-01-04&#x27;,\n",
       "               &#x27;1981-01-05&#x27;, &#x27;1981-01-06&#x27;, &#x27;1981-01-07&#x27;, &#x27;1981-01-08&#x27;,\n",
       "               &#x27;1981-01-09&#x27;, &#x27;1981-01-10&#x27;,\n",
       "               ...\n",
       "               &#x27;2022-12-22&#x27;, &#x27;2022-12-23&#x27;, &#x27;2022-12-24&#x27;, &#x27;2022-12-25&#x27;,\n",
       "               &#x27;2022-12-26&#x27;, &#x27;2022-12-27&#x27;, &#x27;2022-12-28&#x27;, &#x27;2022-12-29&#x27;,\n",
       "               &#x27;2022-12-30&#x27;, &#x27;2022-12-31&#x27;],\n",
       "              dtype=&#x27;datetime64[ns]&#x27;, name=&#x27;time&#x27;, length=15340, freq=None))</pre></div></li></ul></div></li><li class='xr-section-item'><input id='section-7cabfc31-3cf8-4206-b645-5959c27cfeb9' class='xr-section-summary-in' type='checkbox'  checked><label for='section-7cabfc31-3cf8-4206-b645-5959c27cfeb9' class='xr-section-summary' >Attributes: <span>(7)</span></label><div class='xr-section-inline-details'></div><div class='xr-section-details'><dl class='xr-attrs'><dt><span>Conventions :</span></dt><dd>COARDS</dd><dt><span>title :</span></dt><dd>mean daily NMC reanalysis (1981)</dd><dt><span>description :</span></dt><dd>Data is from NMC initialized reanalysis\n",
       "(4x/day).  It consists of T62 variables interpolated to\n",
       "pressure surfaces from model (sigma) surfaces.</dd><dt><span>platform :</span></dt><dd>Model</dd><dt><span>history :</span></dt><dd>created 95/03/13 by Hoop (netCDF2.3)\n",
       "Converted to chunked, deflated non-packed NetCDF4 2014/09</dd><dt><span>dataset_title :</span></dt><dd>NCEP-NCAR Reanalysis 1</dd><dt><span>References :</span></dt><dd>http://www.psl.noaa.gov/data/gridded/data.ncep.reanalysis.html</dd></dl></div></li></ul></div></div>"
      ],
      "text/plain": [
       "<xarray.Dataset>\n",
       "Dimensions:    (lat: 94, lon: 192, time: 15340, nbnds: 2)\n",
       "Coordinates:\n",
       "  * lat        (lat) float32 88.54 86.65 84.75 82.85 ... -84.75 -86.65 -88.54\n",
       "  * lon        (lon) float32 0.0 1.875 3.75 5.625 ... 352.5 354.4 356.2 358.1\n",
       "  * time       (time) datetime64[ns] 1981-01-01 1981-01-02 ... 2022-12-31\n",
       "Dimensions without coordinates: nbnds\n",
       "Data variables:\n",
       "    air        (time, lat, lon) float32 dask.array<chunksize=(365, 94, 192), meta=np.ndarray>\n",
       "    time_bnds  (time, nbnds) float64 dask.array<chunksize=(365, 2), meta=np.ndarray>\n",
       "Attributes:\n",
       "    Conventions:    COARDS\n",
       "    title:          mean daily NMC reanalysis (1981)\n",
       "    description:    Data is from NMC initialized reanalysis\\n(4x/day).  It co...\n",
       "    platform:       Model\n",
       "    history:        created 95/03/13 by Hoop (netCDF2.3)\\nConverted to chunke...\n",
       "    dataset_title:  NCEP-NCAR Reanalysis 1\n",
       "    References:     http://www.psl.noaa.gov/data/gridded/data.ncep.reanalysis..."
      ]
     },
     "execution_count": 5,
     "metadata": {},
     "output_type": "execute_result"
    }
   ],
   "source": [
    "data"
   ]
  },
  {
   "cell_type": "code",
   "execution_count": 6,
   "id": "db893d25",
   "metadata": {
    "scrolled": true
   },
   "outputs": [
    {
     "data": {
      "text/html": [
       "<div><svg style=\"position: absolute; width: 0; height: 0; overflow: hidden\">\n",
       "<defs>\n",
       "<symbol id=\"icon-database\" viewBox=\"0 0 32 32\">\n",
       "<path d=\"M16 0c-8.837 0-16 2.239-16 5v4c0 2.761 7.163 5 16 5s16-2.239 16-5v-4c0-2.761-7.163-5-16-5z\"></path>\n",
       "<path d=\"M16 17c-8.837 0-16-2.239-16-5v6c0 2.761 7.163 5 16 5s16-2.239 16-5v-6c0 2.761-7.163 5-16 5z\"></path>\n",
       "<path d=\"M16 26c-8.837 0-16-2.239-16-5v6c0 2.761 7.163 5 16 5s16-2.239 16-5v-6c0 2.761-7.163 5-16 5z\"></path>\n",
       "</symbol>\n",
       "<symbol id=\"icon-file-text2\" viewBox=\"0 0 32 32\">\n",
       "<path d=\"M28.681 7.159c-0.694-0.947-1.662-2.053-2.724-3.116s-2.169-2.030-3.116-2.724c-1.612-1.182-2.393-1.319-2.841-1.319h-15.5c-1.378 0-2.5 1.121-2.5 2.5v27c0 1.378 1.122 2.5 2.5 2.5h23c1.378 0 2.5-1.122 2.5-2.5v-19.5c0-0.448-0.137-1.23-1.319-2.841zM24.543 5.457c0.959 0.959 1.712 1.825 2.268 2.543h-4.811v-4.811c0.718 0.556 1.584 1.309 2.543 2.268zM28 29.5c0 0.271-0.229 0.5-0.5 0.5h-23c-0.271 0-0.5-0.229-0.5-0.5v-27c0-0.271 0.229-0.5 0.5-0.5 0 0 15.499-0 15.5 0v7c0 0.552 0.448 1 1 1h7v19.5z\"></path>\n",
       "<path d=\"M23 26h-14c-0.552 0-1-0.448-1-1s0.448-1 1-1h14c0.552 0 1 0.448 1 1s-0.448 1-1 1z\"></path>\n",
       "<path d=\"M23 22h-14c-0.552 0-1-0.448-1-1s0.448-1 1-1h14c0.552 0 1 0.448 1 1s-0.448 1-1 1z\"></path>\n",
       "<path d=\"M23 18h-14c-0.552 0-1-0.448-1-1s0.448-1 1-1h14c0.552 0 1 0.448 1 1s-0.448 1-1 1z\"></path>\n",
       "</symbol>\n",
       "</defs>\n",
       "</svg>\n",
       "<style>/* CSS stylesheet for displaying xarray objects in jupyterlab.\n",
       " *\n",
       " */\n",
       "\n",
       ":root {\n",
       "  --xr-font-color0: var(--jp-content-font-color0, rgba(0, 0, 0, 1));\n",
       "  --xr-font-color2: var(--jp-content-font-color2, rgba(0, 0, 0, 0.54));\n",
       "  --xr-font-color3: var(--jp-content-font-color3, rgba(0, 0, 0, 0.38));\n",
       "  --xr-border-color: var(--jp-border-color2, #e0e0e0);\n",
       "  --xr-disabled-color: var(--jp-layout-color3, #bdbdbd);\n",
       "  --xr-background-color: var(--jp-layout-color0, white);\n",
       "  --xr-background-color-row-even: var(--jp-layout-color1, white);\n",
       "  --xr-background-color-row-odd: var(--jp-layout-color2, #eeeeee);\n",
       "}\n",
       "\n",
       "html[theme=dark],\n",
       "body[data-theme=dark],\n",
       "body.vscode-dark {\n",
       "  --xr-font-color0: rgba(255, 255, 255, 1);\n",
       "  --xr-font-color2: rgba(255, 255, 255, 0.54);\n",
       "  --xr-font-color3: rgba(255, 255, 255, 0.38);\n",
       "  --xr-border-color: #1F1F1F;\n",
       "  --xr-disabled-color: #515151;\n",
       "  --xr-background-color: #111111;\n",
       "  --xr-background-color-row-even: #111111;\n",
       "  --xr-background-color-row-odd: #313131;\n",
       "}\n",
       "\n",
       ".xr-wrap {\n",
       "  display: block !important;\n",
       "  min-width: 300px;\n",
       "  max-width: 700px;\n",
       "}\n",
       "\n",
       ".xr-text-repr-fallback {\n",
       "  /* fallback to plain text repr when CSS is not injected (untrusted notebook) */\n",
       "  display: none;\n",
       "}\n",
       "\n",
       ".xr-header {\n",
       "  padding-top: 6px;\n",
       "  padding-bottom: 6px;\n",
       "  margin-bottom: 4px;\n",
       "  border-bottom: solid 1px var(--xr-border-color);\n",
       "}\n",
       "\n",
       ".xr-header > div,\n",
       ".xr-header > ul {\n",
       "  display: inline;\n",
       "  margin-top: 0;\n",
       "  margin-bottom: 0;\n",
       "}\n",
       "\n",
       ".xr-obj-type,\n",
       ".xr-array-name {\n",
       "  margin-left: 2px;\n",
       "  margin-right: 10px;\n",
       "}\n",
       "\n",
       ".xr-obj-type {\n",
       "  color: var(--xr-font-color2);\n",
       "}\n",
       "\n",
       ".xr-sections {\n",
       "  padding-left: 0 !important;\n",
       "  display: grid;\n",
       "  grid-template-columns: 150px auto auto 1fr 20px 20px;\n",
       "}\n",
       "\n",
       ".xr-section-item {\n",
       "  display: contents;\n",
       "}\n",
       "\n",
       ".xr-section-item input {\n",
       "  display: none;\n",
       "}\n",
       "\n",
       ".xr-section-item input + label {\n",
       "  color: var(--xr-disabled-color);\n",
       "}\n",
       "\n",
       ".xr-section-item input:enabled + label {\n",
       "  cursor: pointer;\n",
       "  color: var(--xr-font-color2);\n",
       "}\n",
       "\n",
       ".xr-section-item input:enabled + label:hover {\n",
       "  color: var(--xr-font-color0);\n",
       "}\n",
       "\n",
       ".xr-section-summary {\n",
       "  grid-column: 1;\n",
       "  color: var(--xr-font-color2);\n",
       "  font-weight: 500;\n",
       "}\n",
       "\n",
       ".xr-section-summary > span {\n",
       "  display: inline-block;\n",
       "  padding-left: 0.5em;\n",
       "}\n",
       "\n",
       ".xr-section-summary-in:disabled + label {\n",
       "  color: var(--xr-font-color2);\n",
       "}\n",
       "\n",
       ".xr-section-summary-in + label:before {\n",
       "  display: inline-block;\n",
       "  content: '►';\n",
       "  font-size: 11px;\n",
       "  width: 15px;\n",
       "  text-align: center;\n",
       "}\n",
       "\n",
       ".xr-section-summary-in:disabled + label:before {\n",
       "  color: var(--xr-disabled-color);\n",
       "}\n",
       "\n",
       ".xr-section-summary-in:checked + label:before {\n",
       "  content: '▼';\n",
       "}\n",
       "\n",
       ".xr-section-summary-in:checked + label > span {\n",
       "  display: none;\n",
       "}\n",
       "\n",
       ".xr-section-summary,\n",
       ".xr-section-inline-details {\n",
       "  padding-top: 4px;\n",
       "  padding-bottom: 4px;\n",
       "}\n",
       "\n",
       ".xr-section-inline-details {\n",
       "  grid-column: 2 / -1;\n",
       "}\n",
       "\n",
       ".xr-section-details {\n",
       "  display: none;\n",
       "  grid-column: 1 / -1;\n",
       "  margin-bottom: 5px;\n",
       "}\n",
       "\n",
       ".xr-section-summary-in:checked ~ .xr-section-details {\n",
       "  display: contents;\n",
       "}\n",
       "\n",
       ".xr-array-wrap {\n",
       "  grid-column: 1 / -1;\n",
       "  display: grid;\n",
       "  grid-template-columns: 20px auto;\n",
       "}\n",
       "\n",
       ".xr-array-wrap > label {\n",
       "  grid-column: 1;\n",
       "  vertical-align: top;\n",
       "}\n",
       "\n",
       ".xr-preview {\n",
       "  color: var(--xr-font-color3);\n",
       "}\n",
       "\n",
       ".xr-array-preview,\n",
       ".xr-array-data {\n",
       "  padding: 0 5px !important;\n",
       "  grid-column: 2;\n",
       "}\n",
       "\n",
       ".xr-array-data,\n",
       ".xr-array-in:checked ~ .xr-array-preview {\n",
       "  display: none;\n",
       "}\n",
       "\n",
       ".xr-array-in:checked ~ .xr-array-data,\n",
       ".xr-array-preview {\n",
       "  display: inline-block;\n",
       "}\n",
       "\n",
       ".xr-dim-list {\n",
       "  display: inline-block !important;\n",
       "  list-style: none;\n",
       "  padding: 0 !important;\n",
       "  margin: 0;\n",
       "}\n",
       "\n",
       ".xr-dim-list li {\n",
       "  display: inline-block;\n",
       "  padding: 0;\n",
       "  margin: 0;\n",
       "}\n",
       "\n",
       ".xr-dim-list:before {\n",
       "  content: '(';\n",
       "}\n",
       "\n",
       ".xr-dim-list:after {\n",
       "  content: ')';\n",
       "}\n",
       "\n",
       ".xr-dim-list li:not(:last-child):after {\n",
       "  content: ',';\n",
       "  padding-right: 5px;\n",
       "}\n",
       "\n",
       ".xr-has-index {\n",
       "  font-weight: bold;\n",
       "}\n",
       "\n",
       ".xr-var-list,\n",
       ".xr-var-item {\n",
       "  display: contents;\n",
       "}\n",
       "\n",
       ".xr-var-item > div,\n",
       ".xr-var-item label,\n",
       ".xr-var-item > .xr-var-name span {\n",
       "  background-color: var(--xr-background-color-row-even);\n",
       "  margin-bottom: 0;\n",
       "}\n",
       "\n",
       ".xr-var-item > .xr-var-name:hover span {\n",
       "  padding-right: 5px;\n",
       "}\n",
       "\n",
       ".xr-var-list > li:nth-child(odd) > div,\n",
       ".xr-var-list > li:nth-child(odd) > label,\n",
       ".xr-var-list > li:nth-child(odd) > .xr-var-name span {\n",
       "  background-color: var(--xr-background-color-row-odd);\n",
       "}\n",
       "\n",
       ".xr-var-name {\n",
       "  grid-column: 1;\n",
       "}\n",
       "\n",
       ".xr-var-dims {\n",
       "  grid-column: 2;\n",
       "}\n",
       "\n",
       ".xr-var-dtype {\n",
       "  grid-column: 3;\n",
       "  text-align: right;\n",
       "  color: var(--xr-font-color2);\n",
       "}\n",
       "\n",
       ".xr-var-preview {\n",
       "  grid-column: 4;\n",
       "}\n",
       "\n",
       ".xr-index-preview {\n",
       "  grid-column: 2 / 5;\n",
       "  color: var(--xr-font-color2);\n",
       "}\n",
       "\n",
       ".xr-var-name,\n",
       ".xr-var-dims,\n",
       ".xr-var-dtype,\n",
       ".xr-preview,\n",
       ".xr-attrs dt {\n",
       "  white-space: nowrap;\n",
       "  overflow: hidden;\n",
       "  text-overflow: ellipsis;\n",
       "  padding-right: 10px;\n",
       "}\n",
       "\n",
       ".xr-var-name:hover,\n",
       ".xr-var-dims:hover,\n",
       ".xr-var-dtype:hover,\n",
       ".xr-attrs dt:hover {\n",
       "  overflow: visible;\n",
       "  width: auto;\n",
       "  z-index: 1;\n",
       "}\n",
       "\n",
       ".xr-var-attrs,\n",
       ".xr-var-data,\n",
       ".xr-index-data {\n",
       "  display: none;\n",
       "  background-color: var(--xr-background-color) !important;\n",
       "  padding-bottom: 5px !important;\n",
       "}\n",
       "\n",
       ".xr-var-attrs-in:checked ~ .xr-var-attrs,\n",
       ".xr-var-data-in:checked ~ .xr-var-data,\n",
       ".xr-index-data-in:checked ~ .xr-index-data {\n",
       "  display: block;\n",
       "}\n",
       "\n",
       ".xr-var-data > table {\n",
       "  float: right;\n",
       "}\n",
       "\n",
       ".xr-var-name span,\n",
       ".xr-var-data,\n",
       ".xr-index-name div,\n",
       ".xr-index-data,\n",
       ".xr-attrs {\n",
       "  padding-left: 25px !important;\n",
       "}\n",
       "\n",
       ".xr-attrs,\n",
       ".xr-var-attrs,\n",
       ".xr-var-data,\n",
       ".xr-index-data {\n",
       "  grid-column: 1 / -1;\n",
       "}\n",
       "\n",
       "dl.xr-attrs {\n",
       "  padding: 0;\n",
       "  margin: 0;\n",
       "  display: grid;\n",
       "  grid-template-columns: 125px auto;\n",
       "}\n",
       "\n",
       ".xr-attrs dt,\n",
       ".xr-attrs dd {\n",
       "  padding: 0;\n",
       "  margin: 0;\n",
       "  float: left;\n",
       "  padding-right: 10px;\n",
       "  width: auto;\n",
       "}\n",
       "\n",
       ".xr-attrs dt {\n",
       "  font-weight: normal;\n",
       "  grid-column: 1;\n",
       "}\n",
       "\n",
       ".xr-attrs dt:hover span {\n",
       "  display: inline-block;\n",
       "  background: var(--xr-background-color);\n",
       "  padding-right: 10px;\n",
       "}\n",
       "\n",
       ".xr-attrs dd {\n",
       "  grid-column: 2;\n",
       "  white-space: pre-wrap;\n",
       "  word-break: break-all;\n",
       "}\n",
       "\n",
       ".xr-icon-database,\n",
       ".xr-icon-file-text2,\n",
       ".xr-no-icon {\n",
       "  display: inline-block;\n",
       "  vertical-align: middle;\n",
       "  width: 1em;\n",
       "  height: 1.5em !important;\n",
       "  stroke-width: 0;\n",
       "  stroke: currentColor;\n",
       "  fill: currentColor;\n",
       "}\n",
       "</style><pre class='xr-text-repr-fallback'>&lt;xarray.DataArray &#x27;air&#x27; (time: 15340, lat: 94, lon: 192)&gt;\n",
       "dask.array&lt;concatenate, shape=(15340, 94, 192), dtype=float32, chunksize=(366, 94, 192), chunktype=numpy.ndarray&gt;\n",
       "Coordinates:\n",
       "  * lat      (lat) float32 88.54 86.65 84.75 82.85 ... -84.75 -86.65 -88.54\n",
       "  * lon      (lon) float32 0.0 1.875 3.75 5.625 7.5 ... 352.5 354.4 356.2 358.1\n",
       "  * time     (time) datetime64[ns] 1981-01-01 1981-01-02 ... 2022-12-31\n",
       "Attributes:\n",
       "    long_name:     mean Daily Air temperature at 2 m\n",
       "    units:         degK\n",
       "    precision:     2\n",
       "    GRIB_id:       11\n",
       "    GRIB_name:     TMP\n",
       "    var_desc:      Air temperature\n",
       "    dataset:       NCEP Reanalysis Daily Averages\n",
       "    level_desc:    2 m\n",
       "    statistic:     Mean\n",
       "    parent_stat:   Individual Obs\n",
       "    actual_range:  [177.68 316.55]\n",
       "    valid_range:   [150. 400.]</pre><div class='xr-wrap' style='display:none'><div class='xr-header'><div class='xr-obj-type'>xarray.DataArray</div><div class='xr-array-name'>'air'</div><ul class='xr-dim-list'><li><span class='xr-has-index'>time</span>: 15340</li><li><span class='xr-has-index'>lat</span>: 94</li><li><span class='xr-has-index'>lon</span>: 192</li></ul></div><ul class='xr-sections'><li class='xr-section-item'><div class='xr-array-wrap'><input id='section-27a57550-4205-4118-853e-09a3dad3e8bd' class='xr-array-in' type='checkbox' checked><label for='section-27a57550-4205-4118-853e-09a3dad3e8bd' title='Show/hide data repr'><svg class='icon xr-icon-database'><use xlink:href='#icon-database'></use></svg></label><div class='xr-array-preview xr-preview'><span>dask.array&lt;chunksize=(365, 94, 192), meta=np.ndarray&gt;</span></div><div class='xr-array-data'><table>\n",
       "    <tr>\n",
       "        <td>\n",
       "            <table style=\"border-collapse: collapse;\">\n",
       "                <thead>\n",
       "                    <tr>\n",
       "                        <td> </td>\n",
       "                        <th> Array </th>\n",
       "                        <th> Chunk </th>\n",
       "                    </tr>\n",
       "                </thead>\n",
       "                <tbody>\n",
       "                    \n",
       "                    <tr>\n",
       "                        <th> Bytes </th>\n",
       "                        <td> 1.03 GiB </td>\n",
       "                        <td> 25.20 MiB </td>\n",
       "                    </tr>\n",
       "                    \n",
       "                    <tr>\n",
       "                        <th> Shape </th>\n",
       "                        <td> (15340, 94, 192) </td>\n",
       "                        <td> (366, 94, 192) </td>\n",
       "                    </tr>\n",
       "                    <tr>\n",
       "                        <th> Dask graph </th>\n",
       "                        <td colspan=\"2\"> 42 chunks in 85 graph layers </td>\n",
       "                    </tr>\n",
       "                    <tr>\n",
       "                        <th> Data type </th>\n",
       "                        <td colspan=\"2\"> float32 numpy.ndarray </td>\n",
       "                    </tr>\n",
       "                </tbody>\n",
       "            </table>\n",
       "        </td>\n",
       "        <td>\n",
       "        <svg width=\"157\" height=\"146\" style=\"stroke:rgb(0,0,0);stroke-width:1\" >\n",
       "\n",
       "  <!-- Horizontal lines -->\n",
       "  <line x1=\"10\" y1=\"0\" x2=\"80\" y2=\"70\" style=\"stroke-width:2\" />\n",
       "  <line x1=\"10\" y1=\"25\" x2=\"80\" y2=\"96\" style=\"stroke-width:2\" />\n",
       "\n",
       "  <!-- Vertical lines -->\n",
       "  <line x1=\"10\" y1=\"0\" x2=\"10\" y2=\"25\" style=\"stroke-width:2\" />\n",
       "  <line x1=\"13\" y1=\"3\" x2=\"13\" y2=\"28\" />\n",
       "  <line x1=\"16\" y1=\"6\" x2=\"16\" y2=\"32\" />\n",
       "  <line x1=\"20\" y1=\"10\" x2=\"20\" y2=\"35\" />\n",
       "  <line x1=\"23\" y1=\"13\" x2=\"23\" y2=\"38\" />\n",
       "  <line x1=\"28\" y1=\"18\" x2=\"28\" y2=\"43\" />\n",
       "  <line x1=\"31\" y1=\"21\" x2=\"31\" y2=\"47\" />\n",
       "  <line x1=\"35\" y1=\"25\" x2=\"35\" y2=\"50\" />\n",
       "  <line x1=\"38\" y1=\"28\" x2=\"38\" y2=\"53\" />\n",
       "  <line x1=\"41\" y1=\"31\" x2=\"41\" y2=\"57\" />\n",
       "  <line x1=\"46\" y1=\"36\" x2=\"46\" y2=\"62\" />\n",
       "  <line x1=\"50\" y1=\"40\" x2=\"50\" y2=\"65\" />\n",
       "  <line x1=\"53\" y1=\"43\" x2=\"53\" y2=\"69\" />\n",
       "  <line x1=\"57\" y1=\"47\" x2=\"57\" y2=\"72\" />\n",
       "  <line x1=\"60\" y1=\"50\" x2=\"60\" y2=\"75\" />\n",
       "  <line x1=\"65\" y1=\"55\" x2=\"65\" y2=\"80\" />\n",
       "  <line x1=\"68\" y1=\"58\" x2=\"68\" y2=\"84\" />\n",
       "  <line x1=\"72\" y1=\"62\" x2=\"72\" y2=\"87\" />\n",
       "  <line x1=\"75\" y1=\"65\" x2=\"75\" y2=\"90\" />\n",
       "  <line x1=\"80\" y1=\"70\" x2=\"80\" y2=\"96\" style=\"stroke-width:2\" />\n",
       "\n",
       "  <!-- Colored Rectangle -->\n",
       "  <polygon points=\"10.0,0.0 80.58823529411765,70.58823529411765 80.58823529411765,96.00085180870013 10.0,25.412616514582485\" style=\"fill:#8B4903A0;stroke-width:0\"/>\n",
       "\n",
       "  <!-- Horizontal lines -->\n",
       "  <line x1=\"10\" y1=\"0\" x2=\"36\" y2=\"0\" style=\"stroke-width:2\" />\n",
       "  <line x1=\"13\" y1=\"3\" x2=\"39\" y2=\"3\" />\n",
       "  <line x1=\"16\" y1=\"6\" x2=\"43\" y2=\"6\" />\n",
       "  <line x1=\"20\" y1=\"10\" x2=\"46\" y2=\"10\" />\n",
       "  <line x1=\"23\" y1=\"13\" x2=\"49\" y2=\"13\" />\n",
       "  <line x1=\"28\" y1=\"18\" x2=\"55\" y2=\"18\" />\n",
       "  <line x1=\"31\" y1=\"21\" x2=\"58\" y2=\"21\" />\n",
       "  <line x1=\"35\" y1=\"25\" x2=\"61\" y2=\"25\" />\n",
       "  <line x1=\"38\" y1=\"28\" x2=\"65\" y2=\"28\" />\n",
       "  <line x1=\"41\" y1=\"31\" x2=\"68\" y2=\"31\" />\n",
       "  <line x1=\"46\" y1=\"36\" x2=\"73\" y2=\"36\" />\n",
       "  <line x1=\"50\" y1=\"40\" x2=\"76\" y2=\"40\" />\n",
       "  <line x1=\"53\" y1=\"43\" x2=\"80\" y2=\"43\" />\n",
       "  <line x1=\"57\" y1=\"47\" x2=\"83\" y2=\"47\" />\n",
       "  <line x1=\"60\" y1=\"50\" x2=\"86\" y2=\"50\" />\n",
       "  <line x1=\"65\" y1=\"55\" x2=\"91\" y2=\"55\" />\n",
       "  <line x1=\"68\" y1=\"58\" x2=\"95\" y2=\"58\" />\n",
       "  <line x1=\"72\" y1=\"62\" x2=\"98\" y2=\"62\" />\n",
       "  <line x1=\"75\" y1=\"65\" x2=\"102\" y2=\"65\" />\n",
       "  <line x1=\"80\" y1=\"70\" x2=\"107\" y2=\"70\" style=\"stroke-width:2\" />\n",
       "\n",
       "  <!-- Vertical lines -->\n",
       "  <line x1=\"10\" y1=\"0\" x2=\"80\" y2=\"70\" style=\"stroke-width:2\" />\n",
       "  <line x1=\"36\" y1=\"0\" x2=\"107\" y2=\"70\" style=\"stroke-width:2\" />\n",
       "\n",
       "  <!-- Colored Rectangle -->\n",
       "  <polygon points=\"10.0,0.0 36.51934288986725,0.0 107.1075781839849,70.58823529411765 80.58823529411765,70.58823529411765\" style=\"fill:#8B4903A0;stroke-width:0\"/>\n",
       "\n",
       "  <!-- Horizontal lines -->\n",
       "  <line x1=\"80\" y1=\"70\" x2=\"107\" y2=\"70\" style=\"stroke-width:2\" />\n",
       "  <line x1=\"80\" y1=\"96\" x2=\"107\" y2=\"96\" style=\"stroke-width:2\" />\n",
       "\n",
       "  <!-- Vertical lines -->\n",
       "  <line x1=\"80\" y1=\"70\" x2=\"80\" y2=\"96\" style=\"stroke-width:2\" />\n",
       "  <line x1=\"107\" y1=\"70\" x2=\"107\" y2=\"96\" style=\"stroke-width:2\" />\n",
       "\n",
       "  <!-- Colored Rectangle -->\n",
       "  <polygon points=\"80.58823529411765,70.58823529411765 107.1075781839849,70.58823529411765 107.1075781839849,96.00085180870013 80.58823529411765,96.00085180870013\" style=\"fill:#ECB172A0;stroke-width:0\"/>\n",
       "\n",
       "  <!-- Text -->\n",
       "  <text x=\"93.847907\" y=\"116.000852\" font-size=\"1.0rem\" font-weight=\"100\" text-anchor=\"middle\" >192</text>\n",
       "  <text x=\"127.107578\" y=\"83.294544\" font-size=\"1.0rem\" font-weight=\"100\" text-anchor=\"middle\" transform=\"rotate(0,127.107578,83.294544)\">94</text>\n",
       "  <text x=\"35.294118\" y=\"80.706734\" font-size=\"1.0rem\" font-weight=\"100\" text-anchor=\"middle\" transform=\"rotate(45,35.294118,80.706734)\">15340</text>\n",
       "</svg>\n",
       "        </td>\n",
       "    </tr>\n",
       "</table></div></div></li><li class='xr-section-item'><input id='section-2974f391-c8b4-4c18-a1a0-21322f283264' class='xr-section-summary-in' type='checkbox'  checked><label for='section-2974f391-c8b4-4c18-a1a0-21322f283264' class='xr-section-summary' >Coordinates: <span>(3)</span></label><div class='xr-section-inline-details'></div><div class='xr-section-details'><ul class='xr-var-list'><li class='xr-var-item'><div class='xr-var-name'><span class='xr-has-index'>lat</span></div><div class='xr-var-dims'>(lat)</div><div class='xr-var-dtype'>float32</div><div class='xr-var-preview xr-preview'>88.54 86.65 84.75 ... -86.65 -88.54</div><input id='attrs-7814d0d1-1d68-4dff-ba3e-bb03b654e1c6' class='xr-var-attrs-in' type='checkbox' ><label for='attrs-7814d0d1-1d68-4dff-ba3e-bb03b654e1c6' title='Show/Hide attributes'><svg class='icon xr-icon-file-text2'><use xlink:href='#icon-file-text2'></use></svg></label><input id='data-67a16f2f-4224-41e9-aaa8-7e7893e4e705' class='xr-var-data-in' type='checkbox'><label for='data-67a16f2f-4224-41e9-aaa8-7e7893e4e705' title='Show/Hide data repr'><svg class='icon xr-icon-database'><use xlink:href='#icon-database'></use></svg></label><div class='xr-var-attrs'><dl class='xr-attrs'><dt><span>units :</span></dt><dd>degrees_north</dd><dt><span>actual_range :</span></dt><dd>[ 88.542 -88.542]</dd><dt><span>long_name :</span></dt><dd>Latitude</dd><dt><span>standard_name :</span></dt><dd>latitude</dd><dt><span>axis :</span></dt><dd>Y</dd></dl></div><div class='xr-var-data'><pre>array([ 88.542   ,  86.6531  ,  84.7532  ,  82.8508  ,  80.9473  ,  79.0435  ,\n",
       "        77.1394  ,  75.2351  ,  73.3307  ,  71.4262  ,  69.5217  ,  67.6171  ,\n",
       "        65.7125  ,  63.8079  ,  61.9033  ,  59.9986  ,  58.0939  ,  56.1893  ,\n",
       "        54.2846  ,  52.3799  ,  50.4752  ,  48.5705  ,  46.6658  ,  44.7611  ,\n",
       "        42.8564  ,  40.9517  ,  39.047   ,  37.1422  ,  35.2375  ,  33.3328  ,\n",
       "        31.4281  ,  29.5234  ,  27.6186  ,  25.7139  ,  23.8092  ,  21.9044  ,\n",
       "        19.9997  ,  18.095   ,  16.1902  ,  14.2855  ,  12.3808  ,  10.47604 ,\n",
       "         8.57131 ,   6.66657 ,   4.76184 ,   2.8571  ,   0.952368,  -0.952368,\n",
       "        -2.8571  ,  -4.76184 ,  -6.66657 ,  -8.57131 , -10.47604 , -12.3808  ,\n",
       "       -14.2855  , -16.1902  , -18.095   , -19.9997  , -21.9044  , -23.8092  ,\n",
       "       -25.7139  , -27.6186  , -29.5234  , -31.4281  , -33.3328  , -35.2375  ,\n",
       "       -37.1422  , -39.047   , -40.9517  , -42.8564  , -44.7611  , -46.6658  ,\n",
       "       -48.5705  , -50.4752  , -52.3799  , -54.2846  , -56.1893  , -58.0939  ,\n",
       "       -59.9986  , -61.9033  , -63.8079  , -65.7125  , -67.6171  , -69.5217  ,\n",
       "       -71.4262  , -73.3307  , -75.2351  , -77.1394  , -79.0435  , -80.9473  ,\n",
       "       -82.8508  , -84.7532  , -86.6531  , -88.542   ], dtype=float32)</pre></div></li><li class='xr-var-item'><div class='xr-var-name'><span class='xr-has-index'>lon</span></div><div class='xr-var-dims'>(lon)</div><div class='xr-var-dtype'>float32</div><div class='xr-var-preview xr-preview'>0.0 1.875 3.75 ... 356.2 358.1</div><input id='attrs-082d262d-5b84-4a45-a2ed-536d83a964f8' class='xr-var-attrs-in' type='checkbox' ><label for='attrs-082d262d-5b84-4a45-a2ed-536d83a964f8' title='Show/Hide attributes'><svg class='icon xr-icon-file-text2'><use xlink:href='#icon-file-text2'></use></svg></label><input id='data-a89d024b-f274-458d-9fbe-9acb9a70a053' class='xr-var-data-in' type='checkbox'><label for='data-a89d024b-f274-458d-9fbe-9acb9a70a053' title='Show/Hide data repr'><svg class='icon xr-icon-database'><use xlink:href='#icon-database'></use></svg></label><div class='xr-var-attrs'><dl class='xr-attrs'><dt><span>units :</span></dt><dd>degrees_east</dd><dt><span>long_name :</span></dt><dd>Longitude</dd><dt><span>actual_range :</span></dt><dd>[  0.    358.125]</dd><dt><span>standard_name :</span></dt><dd>longitude</dd><dt><span>axis :</span></dt><dd>X</dd></dl></div><div class='xr-var-data'><pre>array([  0.   ,   1.875,   3.75 ,   5.625,   7.5  ,   9.375,  11.25 ,  13.125,\n",
       "        15.   ,  16.875,  18.75 ,  20.625,  22.5  ,  24.375,  26.25 ,  28.125,\n",
       "        30.   ,  31.875,  33.75 ,  35.625,  37.5  ,  39.375,  41.25 ,  43.125,\n",
       "        45.   ,  46.875,  48.75 ,  50.625,  52.5  ,  54.375,  56.25 ,  58.125,\n",
       "        60.   ,  61.875,  63.75 ,  65.625,  67.5  ,  69.375,  71.25 ,  73.125,\n",
       "        75.   ,  76.875,  78.75 ,  80.625,  82.5  ,  84.375,  86.25 ,  88.125,\n",
       "        90.   ,  91.875,  93.75 ,  95.625,  97.5  ,  99.375, 101.25 , 103.125,\n",
       "       105.   , 106.875, 108.75 , 110.625, 112.5  , 114.375, 116.25 , 118.125,\n",
       "       120.   , 121.875, 123.75 , 125.625, 127.5  , 129.375, 131.25 , 133.125,\n",
       "       135.   , 136.875, 138.75 , 140.625, 142.5  , 144.375, 146.25 , 148.125,\n",
       "       150.   , 151.875, 153.75 , 155.625, 157.5  , 159.375, 161.25 , 163.125,\n",
       "       165.   , 166.875, 168.75 , 170.625, 172.5  , 174.375, 176.25 , 178.125,\n",
       "       180.   , 181.875, 183.75 , 185.625, 187.5  , 189.375, 191.25 , 193.125,\n",
       "       195.   , 196.875, 198.75 , 200.625, 202.5  , 204.375, 206.25 , 208.125,\n",
       "       210.   , 211.875, 213.75 , 215.625, 217.5  , 219.375, 221.25 , 223.125,\n",
       "       225.   , 226.875, 228.75 , 230.625, 232.5  , 234.375, 236.25 , 238.125,\n",
       "       240.   , 241.875, 243.75 , 245.625, 247.5  , 249.375, 251.25 , 253.125,\n",
       "       255.   , 256.875, 258.75 , 260.625, 262.5  , 264.375, 266.25 , 268.125,\n",
       "       270.   , 271.875, 273.75 , 275.625, 277.5  , 279.375, 281.25 , 283.125,\n",
       "       285.   , 286.875, 288.75 , 290.625, 292.5  , 294.375, 296.25 , 298.125,\n",
       "       300.   , 301.875, 303.75 , 305.625, 307.5  , 309.375, 311.25 , 313.125,\n",
       "       315.   , 316.875, 318.75 , 320.625, 322.5  , 324.375, 326.25 , 328.125,\n",
       "       330.   , 331.875, 333.75 , 335.625, 337.5  , 339.375, 341.25 , 343.125,\n",
       "       345.   , 346.875, 348.75 , 350.625, 352.5  , 354.375, 356.25 , 358.125],\n",
       "      dtype=float32)</pre></div></li><li class='xr-var-item'><div class='xr-var-name'><span class='xr-has-index'>time</span></div><div class='xr-var-dims'>(time)</div><div class='xr-var-dtype'>datetime64[ns]</div><div class='xr-var-preview xr-preview'>1981-01-01 ... 2022-12-31</div><input id='attrs-ee58150e-d05a-464d-b35c-50703ceb624a' class='xr-var-attrs-in' type='checkbox' ><label for='attrs-ee58150e-d05a-464d-b35c-50703ceb624a' title='Show/Hide attributes'><svg class='icon xr-icon-file-text2'><use xlink:href='#icon-file-text2'></use></svg></label><input id='data-54226ea0-65b9-4f15-be39-78aad9ecbea7' class='xr-var-data-in' type='checkbox'><label for='data-54226ea0-65b9-4f15-be39-78aad9ecbea7' title='Show/Hide data repr'><svg class='icon xr-icon-database'><use xlink:href='#icon-database'></use></svg></label><div class='xr-var-attrs'><dl class='xr-attrs'><dt><span>long_name :</span></dt><dd>Time</dd><dt><span>delta_t :</span></dt><dd>0000-00-01 00:00:00</dd><dt><span>avg_period :</span></dt><dd>0000-00-01 00:00:00</dd><dt><span>standard_name :</span></dt><dd>time</dd><dt><span>axis :</span></dt><dd>T</dd><dt><span>actual_range :</span></dt><dd>[1586616. 1595352.]</dd><dt><span>coordinate_defines :</span></dt><dd>start</dd></dl></div><div class='xr-var-data'><pre>array([&#x27;1981-01-01T00:00:00.000000000&#x27;, &#x27;1981-01-02T00:00:00.000000000&#x27;,\n",
       "       &#x27;1981-01-03T00:00:00.000000000&#x27;, ..., &#x27;2022-12-29T00:00:00.000000000&#x27;,\n",
       "       &#x27;2022-12-30T00:00:00.000000000&#x27;, &#x27;2022-12-31T00:00:00.000000000&#x27;],\n",
       "      dtype=&#x27;datetime64[ns]&#x27;)</pre></div></li></ul></div></li><li class='xr-section-item'><input id='section-04dd33c6-9e0b-4d1f-9289-50b4e0071fa7' class='xr-section-summary-in' type='checkbox'  ><label for='section-04dd33c6-9e0b-4d1f-9289-50b4e0071fa7' class='xr-section-summary' >Indexes: <span>(3)</span></label><div class='xr-section-inline-details'></div><div class='xr-section-details'><ul class='xr-var-list'><li class='xr-var-item'><div class='xr-index-name'><div>lat</div></div><div class='xr-index-preview'>PandasIndex</div><div></div><input id='index-8c5cdaf5-92cc-4d50-a845-2a6b4286572e' class='xr-index-data-in' type='checkbox'/><label for='index-8c5cdaf5-92cc-4d50-a845-2a6b4286572e' title='Show/Hide index repr'><svg class='icon xr-icon-database'><use xlink:href='#icon-database'></use></svg></label><div class='xr-index-data'><pre>PandasIndex(Float64Index([  88.54199981689453,    86.6530990600586,    84.7531967163086,\n",
       "                82.85079956054688,   80.94730377197266,   79.04350280761719,\n",
       "                77.13939666748047,   75.23509979248047,   73.33070373535156,\n",
       "                71.42620086669922,   69.52169799804688,   67.61710357666016,\n",
       "                 65.7125015258789,  63.807899475097656,   61.90330123901367,\n",
       "               59.998600006103516,   58.09389877319336,  56.189300537109375,\n",
       "                54.28459930419922,   52.37990188598633,   50.47520065307617,\n",
       "               48.570499420166016,   46.66579818725586,   44.76110076904297,\n",
       "                42.85639953613281,  40.951698303222656,  39.047000885009766,\n",
       "                 37.1422004699707,   35.23749923706055,  33.332801818847656,\n",
       "                 31.4281005859375,  29.523399353027344,  27.618600845336914,\n",
       "               25.713899612426758,  23.809200286865234,  21.904399871826172,\n",
       "                19.99970054626465,  18.094999313354492,  16.190200805664062,\n",
       "               14.285499572753906,  12.380800247192383,   10.47603988647461,\n",
       "                8.571310043334961,    6.66657018661499,   4.761839866638184,\n",
       "                2.857100009918213,  0.9523680210113525, -0.9523680210113525,\n",
       "               -2.857100009918213,  -4.761839866638184,   -6.66657018661499,\n",
       "               -8.571310043334961,  -10.47603988647461, -12.380800247192383,\n",
       "              -14.285499572753906, -16.190200805664062, -18.094999313354492,\n",
       "               -19.99970054626465, -21.904399871826172, -23.809200286865234,\n",
       "              -25.713899612426758, -27.618600845336914, -29.523399353027344,\n",
       "                -31.4281005859375, -33.332801818847656,  -35.23749923706055,\n",
       "                -37.1422004699707, -39.047000885009766, -40.951698303222656,\n",
       "               -42.85639953613281,  -44.76110076904297,  -46.66579818725586,\n",
       "              -48.570499420166016,  -50.47520065307617,  -52.37990188598633,\n",
       "               -54.28459930419922, -56.189300537109375,  -58.09389877319336,\n",
       "              -59.998600006103516,  -61.90330123901367, -63.807899475097656,\n",
       "                -65.7125015258789,  -67.61710357666016,  -69.52169799804688,\n",
       "               -71.42620086669922,  -73.33070373535156,  -75.23509979248047,\n",
       "               -77.13939666748047,  -79.04350280761719,  -80.94730377197266,\n",
       "               -82.85079956054688,   -84.7531967163086,   -86.6530990600586,\n",
       "               -88.54199981689453],\n",
       "             dtype=&#x27;float64&#x27;, name=&#x27;lat&#x27;))</pre></div></li><li class='xr-var-item'><div class='xr-index-name'><div>lon</div></div><div class='xr-index-preview'>PandasIndex</div><div></div><input id='index-94259d99-d5d2-46eb-bbf8-d253ccef945c' class='xr-index-data-in' type='checkbox'/><label for='index-94259d99-d5d2-46eb-bbf8-d253ccef945c' title='Show/Hide index repr'><svg class='icon xr-icon-database'><use xlink:href='#icon-database'></use></svg></label><div class='xr-index-data'><pre>PandasIndex(Float64Index([    0.0,   1.875,    3.75,   5.625,     7.5,   9.375,   11.25,\n",
       "               13.125,    15.0,  16.875,\n",
       "              ...\n",
       "               341.25, 343.125,   345.0, 346.875,  348.75, 350.625,   352.5,\n",
       "              354.375,  356.25, 358.125],\n",
       "             dtype=&#x27;float64&#x27;, name=&#x27;lon&#x27;, length=192))</pre></div></li><li class='xr-var-item'><div class='xr-index-name'><div>time</div></div><div class='xr-index-preview'>PandasIndex</div><div></div><input id='index-1aacecc7-8e86-45f6-ae99-8e36bc35bcce' class='xr-index-data-in' type='checkbox'/><label for='index-1aacecc7-8e86-45f6-ae99-8e36bc35bcce' title='Show/Hide index repr'><svg class='icon xr-icon-database'><use xlink:href='#icon-database'></use></svg></label><div class='xr-index-data'><pre>PandasIndex(DatetimeIndex([&#x27;1981-01-01&#x27;, &#x27;1981-01-02&#x27;, &#x27;1981-01-03&#x27;, &#x27;1981-01-04&#x27;,\n",
       "               &#x27;1981-01-05&#x27;, &#x27;1981-01-06&#x27;, &#x27;1981-01-07&#x27;, &#x27;1981-01-08&#x27;,\n",
       "               &#x27;1981-01-09&#x27;, &#x27;1981-01-10&#x27;,\n",
       "               ...\n",
       "               &#x27;2022-12-22&#x27;, &#x27;2022-12-23&#x27;, &#x27;2022-12-24&#x27;, &#x27;2022-12-25&#x27;,\n",
       "               &#x27;2022-12-26&#x27;, &#x27;2022-12-27&#x27;, &#x27;2022-12-28&#x27;, &#x27;2022-12-29&#x27;,\n",
       "               &#x27;2022-12-30&#x27;, &#x27;2022-12-31&#x27;],\n",
       "              dtype=&#x27;datetime64[ns]&#x27;, name=&#x27;time&#x27;, length=15340, freq=None))</pre></div></li></ul></div></li><li class='xr-section-item'><input id='section-7da866ca-99db-4fc2-9da3-33ac511c5618' class='xr-section-summary-in' type='checkbox'  ><label for='section-7da866ca-99db-4fc2-9da3-33ac511c5618' class='xr-section-summary' >Attributes: <span>(12)</span></label><div class='xr-section-inline-details'></div><div class='xr-section-details'><dl class='xr-attrs'><dt><span>long_name :</span></dt><dd>mean Daily Air temperature at 2 m</dd><dt><span>units :</span></dt><dd>degK</dd><dt><span>precision :</span></dt><dd>2</dd><dt><span>GRIB_id :</span></dt><dd>11</dd><dt><span>GRIB_name :</span></dt><dd>TMP</dd><dt><span>var_desc :</span></dt><dd>Air temperature</dd><dt><span>dataset :</span></dt><dd>NCEP Reanalysis Daily Averages</dd><dt><span>level_desc :</span></dt><dd>2 m</dd><dt><span>statistic :</span></dt><dd>Mean</dd><dt><span>parent_stat :</span></dt><dd>Individual Obs</dd><dt><span>actual_range :</span></dt><dd>[177.68 316.55]</dd><dt><span>valid_range :</span></dt><dd>[150. 400.]</dd></dl></div></li></ul></div></div>"
      ],
      "text/plain": [
       "<xarray.DataArray 'air' (time: 15340, lat: 94, lon: 192)>\n",
       "dask.array<concatenate, shape=(15340, 94, 192), dtype=float32, chunksize=(366, 94, 192), chunktype=numpy.ndarray>\n",
       "Coordinates:\n",
       "  * lat      (lat) float32 88.54 86.65 84.75 82.85 ... -84.75 -86.65 -88.54\n",
       "  * lon      (lon) float32 0.0 1.875 3.75 5.625 7.5 ... 352.5 354.4 356.2 358.1\n",
       "  * time     (time) datetime64[ns] 1981-01-01 1981-01-02 ... 2022-12-31\n",
       "Attributes:\n",
       "    long_name:     mean Daily Air temperature at 2 m\n",
       "    units:         degK\n",
       "    precision:     2\n",
       "    GRIB_id:       11\n",
       "    GRIB_name:     TMP\n",
       "    var_desc:      Air temperature\n",
       "    dataset:       NCEP Reanalysis Daily Averages\n",
       "    level_desc:    2 m\n",
       "    statistic:     Mean\n",
       "    parent_stat:   Individual Obs\n",
       "    actual_range:  [177.68 316.55]\n",
       "    valid_range:   [150. 400.]"
      ]
     },
     "execution_count": 6,
     "metadata": {},
     "output_type": "execute_result"
    }
   ],
   "source": [
    "data.air"
   ]
  },
  {
   "cell_type": "code",
   "execution_count": 7,
   "id": "c19b55e0",
   "metadata": {},
   "outputs": [
    {
     "data": {
      "text/plain": [
       "3"
      ]
     },
     "execution_count": 7,
     "metadata": {},
     "output_type": "execute_result"
    }
   ],
   "source": [
    "data.air.ndim"
   ]
  },
  {
   "cell_type": "code",
   "execution_count": 8,
   "id": "b1959ed7",
   "metadata": {},
   "outputs": [],
   "source": [
    "# air=np.array(data.air)\n",
    "# latitude=data.lat.values\n",
    "# longitude=data.lon.values\n",
    "# time=data.time.values\n",
    "# air_reshaped=air.reshape(-1)\n",
    "# air_df=pd.DataFrame({\n",
    "#     'latitude':np.repeat(latitude,len(longitude)),\n",
    "#     'longitude':np.tile(longitude,len(latitude)),\n",
    "#     't2m':air_reshaped\n",
    "# })"
   ]
  },
  {
   "cell_type": "code",
   "execution_count": 9,
   "id": "b850dd66",
   "metadata": {},
   "outputs": [],
   "source": [
    "\n",
    "# data=xr.open_dataset('/mnt/1A42C1DD42C1BE2F/MyProjects/ML_HEATWAVE/Air temperature/air.2m.gauss.2022.nc')\n",
    "# t2m=data.air.values\n",
    "# time=data.time.values\n",
    "# lat=data.lat.values\n",
    "# lon=data.lon.values\n",
    "# time=np.repeat(time,len(lat)*len(lon))\n",
    "# lat=np.tile(lat,len(time))\n",
    "# lon=np.tile(lon,len(time))\n",
    "# t2m=t2m.ravel()\n",
    "# t2m_df=pd.DataFrame({\n",
    "#     'time':time,\n",
    "#     'lat':lat,\n",
    "#     'lon':lon,\n",
    "#     't2m':t2m\n",
    "# })"
   ]
  },
  {
   "cell_type": "code",
   "execution_count": 10,
   "id": "2b46097c",
   "metadata": {},
   "outputs": [],
   "source": [
    "time = data.time.values\n",
    "lat = data.lat.values\n",
    "lon = data.lon.values\n",
    "t2m = data.air.values"
   ]
  },
  {
   "cell_type": "code",
   "execution_count": 11,
   "id": "fecd993c",
   "metadata": {},
   "outputs": [
    {
     "name": "stdout",
     "output_type": "stream",
     "text": [
      "15340 94 192 15340\n"
     ]
    }
   ],
   "source": [
    "print(len(time),len(lat),len(lon),len(t2m))"
   ]
  },
  {
   "cell_type": "code",
   "execution_count": 12,
   "id": "dbefaf83",
   "metadata": {},
   "outputs": [
    {
     "data": {
      "text/html": [
       "<div>\n",
       "<style scoped>\n",
       "    .dataframe tbody tr th:only-of-type {\n",
       "        vertical-align: middle;\n",
       "    }\n",
       "\n",
       "    .dataframe tbody tr th {\n",
       "        vertical-align: top;\n",
       "    }\n",
       "\n",
       "    .dataframe thead th {\n",
       "        text-align: right;\n",
       "    }\n",
       "</style>\n",
       "<table border=\"1\" class=\"dataframe\">\n",
       "  <thead>\n",
       "    <tr style=\"text-align: right;\">\n",
       "      <th></th>\n",
       "      <th>time</th>\n",
       "      <th>lat</th>\n",
       "      <th>lon</th>\n",
       "      <th>t2m</th>\n",
       "    </tr>\n",
       "  </thead>\n",
       "  <tbody>\n",
       "    <tr>\n",
       "      <th>0</th>\n",
       "      <td>1981-01-01</td>\n",
       "      <td>88.542000</td>\n",
       "      <td>0.000</td>\n",
       "      <td>244.660004</td>\n",
       "    </tr>\n",
       "    <tr>\n",
       "      <th>1</th>\n",
       "      <td>1981-01-01</td>\n",
       "      <td>86.653099</td>\n",
       "      <td>1.875</td>\n",
       "      <td>244.550003</td>\n",
       "    </tr>\n",
       "    <tr>\n",
       "      <th>2</th>\n",
       "      <td>1981-01-01</td>\n",
       "      <td>84.753197</td>\n",
       "      <td>3.750</td>\n",
       "      <td>244.509995</td>\n",
       "    </tr>\n",
       "    <tr>\n",
       "      <th>3</th>\n",
       "      <td>1981-01-01</td>\n",
       "      <td>82.850800</td>\n",
       "      <td>5.625</td>\n",
       "      <td>244.380005</td>\n",
       "    </tr>\n",
       "    <tr>\n",
       "      <th>4</th>\n",
       "      <td>1981-01-01</td>\n",
       "      <td>80.947304</td>\n",
       "      <td>7.500</td>\n",
       "      <td>244.330002</td>\n",
       "    </tr>\n",
       "    <tr>\n",
       "      <th>...</th>\n",
       "      <td>...</td>\n",
       "      <td>...</td>\n",
       "      <td>...</td>\n",
       "      <td>...</td>\n",
       "    </tr>\n",
       "    <tr>\n",
       "      <th>144383995</th>\n",
       "      <td>2002-11-26</td>\n",
       "      <td>-80.947304</td>\n",
       "      <td>350.625</td>\n",
       "      <td>239.100006</td>\n",
       "    </tr>\n",
       "    <tr>\n",
       "      <th>144383996</th>\n",
       "      <td>2002-11-26</td>\n",
       "      <td>-82.850800</td>\n",
       "      <td>352.500</td>\n",
       "      <td>239.029999</td>\n",
       "    </tr>\n",
       "    <tr>\n",
       "      <th>144383997</th>\n",
       "      <td>2002-11-26</td>\n",
       "      <td>-84.753197</td>\n",
       "      <td>354.375</td>\n",
       "      <td>238.979996</td>\n",
       "    </tr>\n",
       "    <tr>\n",
       "      <th>144383998</th>\n",
       "      <td>2002-11-26</td>\n",
       "      <td>-86.653099</td>\n",
       "      <td>356.250</td>\n",
       "      <td>238.899994</td>\n",
       "    </tr>\n",
       "    <tr>\n",
       "      <th>144383999</th>\n",
       "      <td>2002-11-26</td>\n",
       "      <td>-88.542000</td>\n",
       "      <td>358.125</td>\n",
       "      <td>238.830002</td>\n",
       "    </tr>\n",
       "  </tbody>\n",
       "</table>\n",
       "<p>144384000 rows × 4 columns</p>\n",
       "</div>"
      ],
      "text/plain": [
       "                time        lat      lon         t2m\n",
       "0         1981-01-01  88.542000    0.000  244.660004\n",
       "1         1981-01-01  86.653099    1.875  244.550003\n",
       "2         1981-01-01  84.753197    3.750  244.509995\n",
       "3         1981-01-01  82.850800    5.625  244.380005\n",
       "4         1981-01-01  80.947304    7.500  244.330002\n",
       "...              ...        ...      ...         ...\n",
       "144383995 2002-11-26 -80.947304  350.625  239.100006\n",
       "144383996 2002-11-26 -82.850800  352.500  239.029999\n",
       "144383997 2002-11-26 -84.753197  354.375  238.979996\n",
       "144383998 2002-11-26 -86.653099  356.250  238.899994\n",
       "144383999 2002-11-26 -88.542000  358.125  238.830002\n",
       "\n",
       "[144384000 rows x 4 columns]"
      ]
     },
     "execution_count": 12,
     "metadata": {},
     "output_type": "execute_result"
    }
   ],
   "source": [
    "import pandas as pd\n",
    "import xarray as xr\n",
    "warnings.filterwarnings('ignore')\n",
    "\n",
    "# # Open your netCDF dataset\n",
    "# ds = xr.open_dataset('your_dataset.nc')\n",
    "\n",
    "# Define the chunk size\n",
    "chunk_size = 1000  # Adjust this based on your available memory\n",
    "\n",
    "# Initialize an empty DataFrame to store the results\n",
    "t2m_df = pd.DataFrame(columns=['time', 'lat', 'lon', 't2m'])\n",
    "\n",
    "# Loop through the data in chunks\n",
    "for start in range(0, int(len(data.time)/2), chunk_size):\n",
    "    end = start + chunk_size\n",
    "    chunk = data.isel(time=slice(start, end))\n",
    "\n",
    "    # Extract the data\n",
    "    time = chunk.time.values\n",
    "    lat = chunk.lat.values\n",
    "    lon = chunk.lon.values\n",
    "    t2m = chunk.air.values\n",
    "\n",
    "    # Create a DataFrame for this chunk and append it to the main DataFrame\n",
    "    chunk_df = pd.DataFrame({\n",
    "        'time': time.repeat(len(lat) * len(lon)),\n",
    "        'lat': np.tile(lat, len(time)*len(lon)),\n",
    "        'lon': np.tile(lon, len(time)*len(lat)),\n",
    "        't2m': t2m.ravel()\n",
    "    })\n",
    "\n",
    "    t2m_df = t2m_df.append(chunk_df, ignore_index=True)\n",
    "\n",
    "t2m_df"
   ]
  },
  {
   "cell_type": "code",
   "execution_count": 15,
   "id": "2494b607",
   "metadata": {},
   "outputs": [
    {
     "data": {
      "application/vnd.jupyter.widget-view+json": {
       "model_id": "1d7165a0bc5b4b30a8236c8ba686a50a",
       "version_major": 2,
       "version_minor": 0
      },
      "text/plain": [
       "Main Loop:   0%|          | 0/10 [00:00<?, ?it/s]"
      ]
     },
     "metadata": {},
     "output_type": "display_data"
    },
    {
     "data": {
      "text/html": [
       "<div>\n",
       "<style scoped>\n",
       "    .dataframe tbody tr th:only-of-type {\n",
       "        vertical-align: middle;\n",
       "    }\n",
       "\n",
       "    .dataframe tbody tr th {\n",
       "        vertical-align: top;\n",
       "    }\n",
       "\n",
       "    .dataframe thead th {\n",
       "        text-align: right;\n",
       "    }\n",
       "</style>\n",
       "<table border=\"1\" class=\"dataframe\">\n",
       "  <thead>\n",
       "    <tr style=\"text-align: right;\">\n",
       "      <th></th>\n",
       "      <th>time</th>\n",
       "      <th>lat</th>\n",
       "      <th>lon</th>\n",
       "      <th>t2m</th>\n",
       "    </tr>\n",
       "  </thead>\n",
       "  <tbody>\n",
       "    <tr>\n",
       "      <th>0</th>\n",
       "      <td>1981-01-01</td>\n",
       "      <td>88.542000</td>\n",
       "      <td>0.000</td>\n",
       "      <td>244.660004</td>\n",
       "    </tr>\n",
       "    <tr>\n",
       "      <th>1</th>\n",
       "      <td>1981-01-01</td>\n",
       "      <td>86.653099</td>\n",
       "      <td>1.875</td>\n",
       "      <td>244.550003</td>\n",
       "    </tr>\n",
       "    <tr>\n",
       "      <th>2</th>\n",
       "      <td>1981-01-01</td>\n",
       "      <td>84.753197</td>\n",
       "      <td>3.750</td>\n",
       "      <td>244.509995</td>\n",
       "    </tr>\n",
       "    <tr>\n",
       "      <th>3</th>\n",
       "      <td>1981-01-01</td>\n",
       "      <td>82.850800</td>\n",
       "      <td>5.625</td>\n",
       "      <td>244.380005</td>\n",
       "    </tr>\n",
       "    <tr>\n",
       "      <th>4</th>\n",
       "      <td>1981-01-01</td>\n",
       "      <td>80.947304</td>\n",
       "      <td>7.500</td>\n",
       "      <td>244.330002</td>\n",
       "    </tr>\n",
       "    <tr>\n",
       "      <th>...</th>\n",
       "      <td>...</td>\n",
       "      <td>...</td>\n",
       "      <td>...</td>\n",
       "      <td>...</td>\n",
       "    </tr>\n",
       "    <tr>\n",
       "      <th>90239995</th>\n",
       "      <td>1994-09-09</td>\n",
       "      <td>-80.947304</td>\n",
       "      <td>350.625</td>\n",
       "      <td>204.380005</td>\n",
       "    </tr>\n",
       "    <tr>\n",
       "      <th>90239996</th>\n",
       "      <td>1994-09-09</td>\n",
       "      <td>-82.850800</td>\n",
       "      <td>352.500</td>\n",
       "      <td>204.179993</td>\n",
       "    </tr>\n",
       "    <tr>\n",
       "      <th>90239997</th>\n",
       "      <td>1994-09-09</td>\n",
       "      <td>-84.753197</td>\n",
       "      <td>354.375</td>\n",
       "      <td>203.980011</td>\n",
       "    </tr>\n",
       "    <tr>\n",
       "      <th>90239998</th>\n",
       "      <td>1994-09-09</td>\n",
       "      <td>-86.653099</td>\n",
       "      <td>356.250</td>\n",
       "      <td>203.779999</td>\n",
       "    </tr>\n",
       "    <tr>\n",
       "      <th>90239999</th>\n",
       "      <td>1994-09-09</td>\n",
       "      <td>-88.542000</td>\n",
       "      <td>358.125</td>\n",
       "      <td>203.549988</td>\n",
       "    </tr>\n",
       "  </tbody>\n",
       "</table>\n",
       "<p>90240000 rows × 4 columns</p>\n",
       "</div>"
      ],
      "text/plain": [
       "               time        lat      lon         t2m\n",
       "0        1981-01-01  88.542000    0.000  244.660004\n",
       "1        1981-01-01  86.653099    1.875  244.550003\n",
       "2        1981-01-01  84.753197    3.750  244.509995\n",
       "3        1981-01-01  82.850800    5.625  244.380005\n",
       "4        1981-01-01  80.947304    7.500  244.330002\n",
       "...             ...        ...      ...         ...\n",
       "90239995 1994-09-09 -80.947304  350.625  204.380005\n",
       "90239996 1994-09-09 -82.850800  352.500  204.179993\n",
       "90239997 1994-09-09 -84.753197  354.375  203.980011\n",
       "90239998 1994-09-09 -86.653099  356.250  203.779999\n",
       "90239999 1994-09-09 -88.542000  358.125  203.549988\n",
       "\n",
       "[90240000 rows x 4 columns]"
      ]
     },
     "execution_count": 15,
     "metadata": {},
     "output_type": "execute_result"
    }
   ],
   "source": [
    "import pandas as pd\n",
    "import xarray as xr\n",
    "from tqdm.auto import tqdm  # Import tqdm\n",
    "\n",
    "# # Open your netCDF dataset\n",
    "# ds = xr.open_dataset('your_dataset.nc')\n",
    "\n",
    "# Define the chunk size\n",
    "chunk_size = 500  # Adjust this based on your available memory\n",
    "\n",
    "# Initialize an empty DataFrame to store the results\n",
    "t2m_df = pd.DataFrame(columns=['time', 'lat', 'lon', 't2m'])\n",
    "\n",
    "# Calculate the number of chunks\n",
    "num_chunks = 5000\n",
    "\n",
    "# Create a tqdm progress bar\n",
    "for start in tqdm(range(0, num_chunks, chunk_size),desc='Main Loop'):\n",
    "    end = start + chunk_size\n",
    "    chunk = data.isel(time=slice(start, end))\n",
    "\n",
    "    # Extract the data\n",
    "    time = chunk.time.values\n",
    "    lat = chunk.lat.values\n",
    "    lon = chunk.lon.values\n",
    "    t2m = chunk.air.values\n",
    "\n",
    "    # Create a DataFrame for this chunk and append it to the main DataFrame\n",
    "    chunk_df = pd.DataFrame({\n",
    "        'time': time.repeat(len(lat) * len(lon)),\n",
    "        'lat': np.tile(lat, len(time) * len(lon)),\n",
    "        'lon': np.tile(lon, len(time) * len(lat)),\n",
    "        't2m': t2m.ravel()\n",
    "    })\n",
    "\n",
    "    t2m_df = t2m_df.append(chunk_df, ignore_index=True)\n",
    "\n",
    "# t2m_df now contains the concatenated data\n",
    "t2m_df"
   ]
  },
  {
   "cell_type": "markdown",
   "id": "cab295ad",
   "metadata": {},
   "source": [
    "# Using append consumes less memory than usual"
   ]
  },
  {
   "cell_type": "code",
   "execution_count": null,
   "id": "9a0334af",
   "metadata": {},
   "outputs": [],
   "source": [
    "# import pandas as pd\n",
    "# import xarray as xr\n",
    "\n",
    "\n",
    "# # Define the chunk size\n",
    "# chunk_size = 1000  # Adjust this based on your available memory\n",
    "\n",
    "# # Initialize an empty DataFrame to store the results\n",
    "# t2m_df = pd.DataFrame(columns=['time', 'lat', 'lon', 't2m'])\n",
    "\n",
    "# # Loop through the data in chunks\n",
    "# for start in range(0, int(len(data.time)/2), chunk_size):\n",
    "#     end = start + chunk_size\n",
    "#     chunk = data.isel(time=slice(start, end))\n",
    "\n",
    "#     # Extract the data\n",
    "#     time = chunk.time.values\n",
    "#     lat = chunk.lat.values\n",
    "#     lon = chunk.lon.values\n",
    "#     t2m = chunk.air.values\n",
    "\n",
    "#     # Create a DataFrame for this chunk and append it to the main DataFrame\n",
    "#     chunk_df = pd.DataFrame({\n",
    "#         'time': time.repeat(len(lat) * len(lon)),\n",
    "#         'lat': np.tile(lat, len(time)*len(lon)),\n",
    "#         'lon': np.tile(lon, len(time)*len(lat)),\n",
    "#         't2m': t2m.ravel()\n",
    "#     })\n",
    "\n",
    "#     t2m_df = pd.concat([t2m_df, chunk_df], ignore_index=True)\n",
    "\n",
    "\n",
    "# t2m_df"
   ]
  },
  {
   "cell_type": "markdown",
   "id": "547b27cc",
   "metadata": {},
   "source": [
    "# This just to check that if the dataset is okay"
   ]
  },
  {
   "cell_type": "code",
   "execution_count": 14,
   "id": "a2292cf6",
   "metadata": {},
   "outputs": [
    {
     "data": {
      "text/html": [
       "<div>\n",
       "<style scoped>\n",
       "    .dataframe tbody tr th:only-of-type {\n",
       "        vertical-align: middle;\n",
       "    }\n",
       "\n",
       "    .dataframe tbody tr th {\n",
       "        vertical-align: top;\n",
       "    }\n",
       "\n",
       "    .dataframe thead th {\n",
       "        text-align: right;\n",
       "    }\n",
       "</style>\n",
       "<table border=\"1\" class=\"dataframe\">\n",
       "  <thead>\n",
       "    <tr style=\"text-align: right;\">\n",
       "      <th></th>\n",
       "      <th>time</th>\n",
       "      <th>lat</th>\n",
       "      <th>lon</th>\n",
       "      <th>t2m</th>\n",
       "    </tr>\n",
       "  </thead>\n",
       "  <tbody>\n",
       "    <tr>\n",
       "      <th>90235</th>\n",
       "      <td>1981-01-05</td>\n",
       "      <td>-80.947304</td>\n",
       "      <td>350.625</td>\n",
       "      <td>254.610001</td>\n",
       "    </tr>\n",
       "    <tr>\n",
       "      <th>90236</th>\n",
       "      <td>1981-01-05</td>\n",
       "      <td>-82.850800</td>\n",
       "      <td>352.500</td>\n",
       "      <td>254.580002</td>\n",
       "    </tr>\n",
       "    <tr>\n",
       "      <th>90237</th>\n",
       "      <td>1981-01-05</td>\n",
       "      <td>-84.753197</td>\n",
       "      <td>354.375</td>\n",
       "      <td>254.580002</td>\n",
       "    </tr>\n",
       "    <tr>\n",
       "      <th>90238</th>\n",
       "      <td>1981-01-05</td>\n",
       "      <td>-86.653099</td>\n",
       "      <td>356.250</td>\n",
       "      <td>254.580002</td>\n",
       "    </tr>\n",
       "    <tr>\n",
       "      <th>90239</th>\n",
       "      <td>1981-01-05</td>\n",
       "      <td>-88.542000</td>\n",
       "      <td>358.125</td>\n",
       "      <td>254.550003</td>\n",
       "    </tr>\n",
       "  </tbody>\n",
       "</table>\n",
       "</div>"
      ],
      "text/plain": [
       "            time        lat      lon         t2m\n",
       "90235 1981-01-05 -80.947304  350.625  254.610001\n",
       "90236 1981-01-05 -82.850800  352.500  254.580002\n",
       "90237 1981-01-05 -84.753197  354.375  254.580002\n",
       "90238 1981-01-05 -86.653099  356.250  254.580002\n",
       "90239 1981-01-05 -88.542000  358.125  254.550003"
      ]
     },
     "execution_count": 14,
     "metadata": {},
     "output_type": "execute_result"
    }
   ],
   "source": [
    "t2m_df[90235:90240]"
   ]
  },
  {
   "cell_type": "code",
   "execution_count": 15,
   "id": "2b3f2d87",
   "metadata": {},
   "outputs": [
    {
     "data": {
      "application/vnd.jupyter.widget-view+json": {
       "model_id": "ee42e1281a1f4af89896b7f46676e353",
       "version_major": 2,
       "version_minor": 0
      },
      "text/plain": [
       "Main Loop:   0%|          | 0/5 [00:00<?, ?it/s]"
      ]
     },
     "metadata": {},
     "output_type": "display_data"
    },
    {
     "data": {
      "application/vnd.jupyter.widget-view+json": {
       "model_id": "47052f2760784f5ba9dcaba338c8fd15",
       "version_major": 2,
       "version_minor": 0
      },
      "text/plain": [
       "loop for time_val=1981-01-01T00:00:00.000000000:   0%|          | 0/94 [00:00<?, ?it/s]"
      ]
     },
     "metadata": {},
     "output_type": "display_data"
    },
    {
     "data": {
      "application/vnd.jupyter.widget-view+json": {
       "model_id": "",
       "version_major": 2,
       "version_minor": 0
      },
      "text/plain": [
       "loop for lon_val=88.54199981689453:   0%|          | 0/192 [00:00<?, ?it/s]"
      ]
     },
     "metadata": {},
     "output_type": "display_data"
    },
    {
     "data": {
      "application/vnd.jupyter.widget-view+json": {
       "model_id": "",
       "version_major": 2,
       "version_minor": 0
      },
      "text/plain": [
       "loop for lon_val=86.6530990600586:   0%|          | 0/192 [00:00<?, ?it/s]"
      ]
     },
     "metadata": {},
     "output_type": "display_data"
    },
    {
     "data": {
      "application/vnd.jupyter.widget-view+json": {
       "model_id": "",
       "version_major": 2,
       "version_minor": 0
      },
      "text/plain": [
       "loop for lon_val=84.7531967163086:   0%|          | 0/192 [00:00<?, ?it/s]"
      ]
     },
     "metadata": {},
     "output_type": "display_data"
    },
    {
     "data": {
      "application/vnd.jupyter.widget-view+json": {
       "model_id": "",
       "version_major": 2,
       "version_minor": 0
      },
      "text/plain": [
       "loop for lon_val=82.85079956054688:   0%|          | 0/192 [00:00<?, ?it/s]"
      ]
     },
     "metadata": {},
     "output_type": "display_data"
    },
    {
     "data": {
      "application/vnd.jupyter.widget-view+json": {
       "model_id": "",
       "version_major": 2,
       "version_minor": 0
      },
      "text/plain": [
       "loop for lon_val=80.94730377197266:   0%|          | 0/192 [00:00<?, ?it/s]"
      ]
     },
     "metadata": {},
     "output_type": "display_data"
    },
    {
     "data": {
      "application/vnd.jupyter.widget-view+json": {
       "model_id": "",
       "version_major": 2,
       "version_minor": 0
      },
      "text/plain": [
       "loop for lon_val=79.04350280761719:   0%|          | 0/192 [00:00<?, ?it/s]"
      ]
     },
     "metadata": {},
     "output_type": "display_data"
    },
    {
     "data": {
      "application/vnd.jupyter.widget-view+json": {
       "model_id": "",
       "version_major": 2,
       "version_minor": 0
      },
      "text/plain": [
       "loop for lon_val=77.13939666748047:   0%|          | 0/192 [00:00<?, ?it/s]"
      ]
     },
     "metadata": {},
     "output_type": "display_data"
    },
    {
     "data": {
      "application/vnd.jupyter.widget-view+json": {
       "model_id": "",
       "version_major": 2,
       "version_minor": 0
      },
      "text/plain": [
       "loop for lon_val=75.23509979248047:   0%|          | 0/192 [00:00<?, ?it/s]"
      ]
     },
     "metadata": {},
     "output_type": "display_data"
    },
    {
     "data": {
      "application/vnd.jupyter.widget-view+json": {
       "model_id": "",
       "version_major": 2,
       "version_minor": 0
      },
      "text/plain": [
       "loop for lon_val=73.33070373535156:   0%|          | 0/192 [00:00<?, ?it/s]"
      ]
     },
     "metadata": {},
     "output_type": "display_data"
    },
    {
     "data": {
      "application/vnd.jupyter.widget-view+json": {
       "model_id": "",
       "version_major": 2,
       "version_minor": 0
      },
      "text/plain": [
       "loop for lon_val=71.42620086669922:   0%|          | 0/192 [00:00<?, ?it/s]"
      ]
     },
     "metadata": {},
     "output_type": "display_data"
    },
    {
     "data": {
      "application/vnd.jupyter.widget-view+json": {
       "model_id": "",
       "version_major": 2,
       "version_minor": 0
      },
      "text/plain": [
       "loop for lon_val=69.52169799804688:   0%|          | 0/192 [00:00<?, ?it/s]"
      ]
     },
     "metadata": {},
     "output_type": "display_data"
    },
    {
     "data": {
      "application/vnd.jupyter.widget-view+json": {
       "model_id": "",
       "version_major": 2,
       "version_minor": 0
      },
      "text/plain": [
       "loop for lon_val=67.61710357666016:   0%|          | 0/192 [00:00<?, ?it/s]"
      ]
     },
     "metadata": {},
     "output_type": "display_data"
    },
    {
     "data": {
      "application/vnd.jupyter.widget-view+json": {
       "model_id": "",
       "version_major": 2,
       "version_minor": 0
      },
      "text/plain": [
       "loop for lon_val=65.7125015258789:   0%|          | 0/192 [00:00<?, ?it/s]"
      ]
     },
     "metadata": {},
     "output_type": "display_data"
    },
    {
     "data": {
      "application/vnd.jupyter.widget-view+json": {
       "model_id": "",
       "version_major": 2,
       "version_minor": 0
      },
      "text/plain": [
       "loop for lon_val=63.807899475097656:   0%|          | 0/192 [00:00<?, ?it/s]"
      ]
     },
     "metadata": {},
     "output_type": "display_data"
    },
    {
     "data": {
      "application/vnd.jupyter.widget-view+json": {
       "model_id": "",
       "version_major": 2,
       "version_minor": 0
      },
      "text/plain": [
       "loop for lon_val=61.90330123901367:   0%|          | 0/192 [00:00<?, ?it/s]"
      ]
     },
     "metadata": {},
     "output_type": "display_data"
    },
    {
     "data": {
      "application/vnd.jupyter.widget-view+json": {
       "model_id": "",
       "version_major": 2,
       "version_minor": 0
      },
      "text/plain": [
       "loop for lon_val=59.998600006103516:   0%|          | 0/192 [00:00<?, ?it/s]"
      ]
     },
     "metadata": {},
     "output_type": "display_data"
    },
    {
     "data": {
      "application/vnd.jupyter.widget-view+json": {
       "model_id": "",
       "version_major": 2,
       "version_minor": 0
      },
      "text/plain": [
       "loop for lon_val=58.09389877319336:   0%|          | 0/192 [00:00<?, ?it/s]"
      ]
     },
     "metadata": {},
     "output_type": "display_data"
    },
    {
     "data": {
      "application/vnd.jupyter.widget-view+json": {
       "model_id": "",
       "version_major": 2,
       "version_minor": 0
      },
      "text/plain": [
       "loop for lon_val=56.189300537109375:   0%|          | 0/192 [00:00<?, ?it/s]"
      ]
     },
     "metadata": {},
     "output_type": "display_data"
    },
    {
     "data": {
      "application/vnd.jupyter.widget-view+json": {
       "model_id": "",
       "version_major": 2,
       "version_minor": 0
      },
      "text/plain": [
       "loop for lon_val=54.28459930419922:   0%|          | 0/192 [00:00<?, ?it/s]"
      ]
     },
     "metadata": {},
     "output_type": "display_data"
    },
    {
     "data": {
      "application/vnd.jupyter.widget-view+json": {
       "model_id": "",
       "version_major": 2,
       "version_minor": 0
      },
      "text/plain": [
       "loop for lon_val=52.37990188598633:   0%|          | 0/192 [00:00<?, ?it/s]"
      ]
     },
     "metadata": {},
     "output_type": "display_data"
    },
    {
     "data": {
      "application/vnd.jupyter.widget-view+json": {
       "model_id": "",
       "version_major": 2,
       "version_minor": 0
      },
      "text/plain": [
       "loop for lon_val=50.47520065307617:   0%|          | 0/192 [00:00<?, ?it/s]"
      ]
     },
     "metadata": {},
     "output_type": "display_data"
    },
    {
     "data": {
      "application/vnd.jupyter.widget-view+json": {
       "model_id": "",
       "version_major": 2,
       "version_minor": 0
      },
      "text/plain": [
       "loop for lon_val=48.570499420166016:   0%|          | 0/192 [00:00<?, ?it/s]"
      ]
     },
     "metadata": {},
     "output_type": "display_data"
    },
    {
     "data": {
      "application/vnd.jupyter.widget-view+json": {
       "model_id": "",
       "version_major": 2,
       "version_minor": 0
      },
      "text/plain": [
       "loop for lon_val=46.66579818725586:   0%|          | 0/192 [00:00<?, ?it/s]"
      ]
     },
     "metadata": {},
     "output_type": "display_data"
    },
    {
     "data": {
      "application/vnd.jupyter.widget-view+json": {
       "model_id": "",
       "version_major": 2,
       "version_minor": 0
      },
      "text/plain": [
       "loop for lon_val=44.76110076904297:   0%|          | 0/192 [00:00<?, ?it/s]"
      ]
     },
     "metadata": {},
     "output_type": "display_data"
    },
    {
     "data": {
      "application/vnd.jupyter.widget-view+json": {
       "model_id": "",
       "version_major": 2,
       "version_minor": 0
      },
      "text/plain": [
       "loop for lon_val=42.85639953613281:   0%|          | 0/192 [00:00<?, ?it/s]"
      ]
     },
     "metadata": {},
     "output_type": "display_data"
    },
    {
     "data": {
      "application/vnd.jupyter.widget-view+json": {
       "model_id": "",
       "version_major": 2,
       "version_minor": 0
      },
      "text/plain": [
       "loop for lon_val=40.951698303222656:   0%|          | 0/192 [00:00<?, ?it/s]"
      ]
     },
     "metadata": {},
     "output_type": "display_data"
    },
    {
     "data": {
      "application/vnd.jupyter.widget-view+json": {
       "model_id": "",
       "version_major": 2,
       "version_minor": 0
      },
      "text/plain": [
       "loop for lon_val=39.047000885009766:   0%|          | 0/192 [00:00<?, ?it/s]"
      ]
     },
     "metadata": {},
     "output_type": "display_data"
    },
    {
     "data": {
      "application/vnd.jupyter.widget-view+json": {
       "model_id": "",
       "version_major": 2,
       "version_minor": 0
      },
      "text/plain": [
       "loop for lon_val=37.1422004699707:   0%|          | 0/192 [00:00<?, ?it/s]"
      ]
     },
     "metadata": {},
     "output_type": "display_data"
    },
    {
     "data": {
      "application/vnd.jupyter.widget-view+json": {
       "model_id": "",
       "version_major": 2,
       "version_minor": 0
      },
      "text/plain": [
       "loop for lon_val=35.23749923706055:   0%|          | 0/192 [00:00<?, ?it/s]"
      ]
     },
     "metadata": {},
     "output_type": "display_data"
    },
    {
     "data": {
      "application/vnd.jupyter.widget-view+json": {
       "model_id": "",
       "version_major": 2,
       "version_minor": 0
      },
      "text/plain": [
       "loop for lon_val=33.332801818847656:   0%|          | 0/192 [00:00<?, ?it/s]"
      ]
     },
     "metadata": {},
     "output_type": "display_data"
    },
    {
     "data": {
      "application/vnd.jupyter.widget-view+json": {
       "model_id": "",
       "version_major": 2,
       "version_minor": 0
      },
      "text/plain": [
       "loop for lon_val=31.4281005859375:   0%|          | 0/192 [00:00<?, ?it/s]"
      ]
     },
     "metadata": {},
     "output_type": "display_data"
    },
    {
     "data": {
      "application/vnd.jupyter.widget-view+json": {
       "model_id": "",
       "version_major": 2,
       "version_minor": 0
      },
      "text/plain": [
       "loop for lon_val=29.523399353027344:   0%|          | 0/192 [00:00<?, ?it/s]"
      ]
     },
     "metadata": {},
     "output_type": "display_data"
    },
    {
     "data": {
      "application/vnd.jupyter.widget-view+json": {
       "model_id": "",
       "version_major": 2,
       "version_minor": 0
      },
      "text/plain": [
       "loop for lon_val=27.618600845336914:   0%|          | 0/192 [00:00<?, ?it/s]"
      ]
     },
     "metadata": {},
     "output_type": "display_data"
    },
    {
     "data": {
      "application/vnd.jupyter.widget-view+json": {
       "model_id": "",
       "version_major": 2,
       "version_minor": 0
      },
      "text/plain": [
       "loop for lon_val=25.713899612426758:   0%|          | 0/192 [00:00<?, ?it/s]"
      ]
     },
     "metadata": {},
     "output_type": "display_data"
    },
    {
     "data": {
      "application/vnd.jupyter.widget-view+json": {
       "model_id": "",
       "version_major": 2,
       "version_minor": 0
      },
      "text/plain": [
       "loop for lon_val=23.809200286865234:   0%|          | 0/192 [00:00<?, ?it/s]"
      ]
     },
     "metadata": {},
     "output_type": "display_data"
    },
    {
     "data": {
      "application/vnd.jupyter.widget-view+json": {
       "model_id": "",
       "version_major": 2,
       "version_minor": 0
      },
      "text/plain": [
       "loop for lon_val=21.904399871826172:   0%|          | 0/192 [00:00<?, ?it/s]"
      ]
     },
     "metadata": {},
     "output_type": "display_data"
    },
    {
     "data": {
      "application/vnd.jupyter.widget-view+json": {
       "model_id": "",
       "version_major": 2,
       "version_minor": 0
      },
      "text/plain": [
       "loop for lon_val=19.99970054626465:   0%|          | 0/192 [00:00<?, ?it/s]"
      ]
     },
     "metadata": {},
     "output_type": "display_data"
    },
    {
     "data": {
      "application/vnd.jupyter.widget-view+json": {
       "model_id": "",
       "version_major": 2,
       "version_minor": 0
      },
      "text/plain": [
       "loop for lon_val=18.094999313354492:   0%|          | 0/192 [00:00<?, ?it/s]"
      ]
     },
     "metadata": {},
     "output_type": "display_data"
    },
    {
     "data": {
      "application/vnd.jupyter.widget-view+json": {
       "model_id": "",
       "version_major": 2,
       "version_minor": 0
      },
      "text/plain": [
       "loop for lon_val=16.190200805664062:   0%|          | 0/192 [00:00<?, ?it/s]"
      ]
     },
     "metadata": {},
     "output_type": "display_data"
    },
    {
     "data": {
      "application/vnd.jupyter.widget-view+json": {
       "model_id": "",
       "version_major": 2,
       "version_minor": 0
      },
      "text/plain": [
       "loop for lon_val=14.285499572753906:   0%|          | 0/192 [00:00<?, ?it/s]"
      ]
     },
     "metadata": {},
     "output_type": "display_data"
    },
    {
     "data": {
      "application/vnd.jupyter.widget-view+json": {
       "model_id": "",
       "version_major": 2,
       "version_minor": 0
      },
      "text/plain": [
       "loop for lon_val=12.380800247192383:   0%|          | 0/192 [00:00<?, ?it/s]"
      ]
     },
     "metadata": {},
     "output_type": "display_data"
    },
    {
     "data": {
      "application/vnd.jupyter.widget-view+json": {
       "model_id": "",
       "version_major": 2,
       "version_minor": 0
      },
      "text/plain": [
       "loop for lon_val=10.47603988647461:   0%|          | 0/192 [00:00<?, ?it/s]"
      ]
     },
     "metadata": {},
     "output_type": "display_data"
    },
    {
     "data": {
      "application/vnd.jupyter.widget-view+json": {
       "model_id": "",
       "version_major": 2,
       "version_minor": 0
      },
      "text/plain": [
       "loop for lon_val=8.571310043334961:   0%|          | 0/192 [00:00<?, ?it/s]"
      ]
     },
     "metadata": {},
     "output_type": "display_data"
    },
    {
     "data": {
      "application/vnd.jupyter.widget-view+json": {
       "model_id": "",
       "version_major": 2,
       "version_minor": 0
      },
      "text/plain": [
       "loop for lon_val=6.66657018661499:   0%|          | 0/192 [00:00<?, ?it/s]"
      ]
     },
     "metadata": {},
     "output_type": "display_data"
    },
    {
     "data": {
      "application/vnd.jupyter.widget-view+json": {
       "model_id": "",
       "version_major": 2,
       "version_minor": 0
      },
      "text/plain": [
       "loop for lon_val=4.761839866638184:   0%|          | 0/192 [00:00<?, ?it/s]"
      ]
     },
     "metadata": {},
     "output_type": "display_data"
    },
    {
     "data": {
      "application/vnd.jupyter.widget-view+json": {
       "model_id": "",
       "version_major": 2,
       "version_minor": 0
      },
      "text/plain": [
       "loop for lon_val=2.857100009918213:   0%|          | 0/192 [00:00<?, ?it/s]"
      ]
     },
     "metadata": {},
     "output_type": "display_data"
    },
    {
     "data": {
      "application/vnd.jupyter.widget-view+json": {
       "model_id": "",
       "version_major": 2,
       "version_minor": 0
      },
      "text/plain": [
       "loop for lon_val=0.9523680210113525:   0%|          | 0/192 [00:00<?, ?it/s]"
      ]
     },
     "metadata": {},
     "output_type": "display_data"
    },
    {
     "data": {
      "application/vnd.jupyter.widget-view+json": {
       "model_id": "",
       "version_major": 2,
       "version_minor": 0
      },
      "text/plain": [
       "loop for lon_val=-0.9523680210113525:   0%|          | 0/192 [00:00<?, ?it/s]"
      ]
     },
     "metadata": {},
     "output_type": "display_data"
    },
    {
     "data": {
      "application/vnd.jupyter.widget-view+json": {
       "model_id": "",
       "version_major": 2,
       "version_minor": 0
      },
      "text/plain": [
       "loop for lon_val=-2.857100009918213:   0%|          | 0/192 [00:00<?, ?it/s]"
      ]
     },
     "metadata": {},
     "output_type": "display_data"
    },
    {
     "data": {
      "application/vnd.jupyter.widget-view+json": {
       "model_id": "",
       "version_major": 2,
       "version_minor": 0
      },
      "text/plain": [
       "loop for lon_val=-4.761839866638184:   0%|          | 0/192 [00:00<?, ?it/s]"
      ]
     },
     "metadata": {},
     "output_type": "display_data"
    },
    {
     "data": {
      "application/vnd.jupyter.widget-view+json": {
       "model_id": "",
       "version_major": 2,
       "version_minor": 0
      },
      "text/plain": [
       "loop for lon_val=-6.66657018661499:   0%|          | 0/192 [00:00<?, ?it/s]"
      ]
     },
     "metadata": {},
     "output_type": "display_data"
    },
    {
     "data": {
      "application/vnd.jupyter.widget-view+json": {
       "model_id": "001b2b382dbc45cb875602a278485e7e",
       "version_major": 2,
       "version_minor": 0
      },
      "text/plain": [
       "loop for lon_val=-8.571310043334961:   0%|          | 0/192 [00:00<?, ?it/s]"
      ]
     },
     "metadata": {},
     "output_type": "display_data"
    },
    {
     "ename": "KeyboardInterrupt",
     "evalue": "",
     "output_type": "error",
     "traceback": [
      "\u001b[0;31m---------------------------------------------------------------------------\u001b[0m",
      "\u001b[0;31mKeyboardInterrupt\u001b[0m                         Traceback (most recent call last)",
      "Cell \u001b[0;32mIn[15], line 12\u001b[0m\n\u001b[1;32m     10\u001b[0m \u001b[38;5;28;01mfor\u001b[39;00m lat_val \u001b[38;5;129;01min\u001b[39;00m tqdm(data\u001b[38;5;241m.\u001b[39mcoords[\u001b[38;5;124m\"\u001b[39m\u001b[38;5;124mlat\u001b[39m\u001b[38;5;124m\"\u001b[39m]\u001b[38;5;241m.\u001b[39mvalues,desc\u001b[38;5;241m=\u001b[39m\u001b[38;5;124mf\u001b[39m\u001b[38;5;124m\"\u001b[39m\u001b[38;5;124mloop for time_val=\u001b[39m\u001b[38;5;132;01m{\u001b[39;00mtime_val\u001b[38;5;132;01m}\u001b[39;00m\u001b[38;5;124m\"\u001b[39m,leave\u001b[38;5;241m=\u001b[39m\u001b[38;5;28;01mFalse\u001b[39;00m):\n\u001b[1;32m     11\u001b[0m     \u001b[38;5;28;01mfor\u001b[39;00m lon_val \u001b[38;5;129;01min\u001b[39;00m tqdm(data\u001b[38;5;241m.\u001b[39mcoords[\u001b[38;5;124m\"\u001b[39m\u001b[38;5;124mlon\u001b[39m\u001b[38;5;124m\"\u001b[39m]\u001b[38;5;241m.\u001b[39mvalues,desc\u001b[38;5;241m=\u001b[39m\u001b[38;5;124mf\u001b[39m\u001b[38;5;124m\"\u001b[39m\u001b[38;5;124mloop for lon_val=\u001b[39m\u001b[38;5;132;01m{\u001b[39;00mlat_val\u001b[38;5;132;01m}\u001b[39;00m\u001b[38;5;124m\"\u001b[39m,leave\u001b[38;5;241m=\u001b[39m\u001b[38;5;28;01mFalse\u001b[39;00m):\n\u001b[0;32m---> 12\u001b[0m         t2m \u001b[38;5;241m=\u001b[39m data\u001b[38;5;241m.\u001b[39msel(time\u001b[38;5;241m=\u001b[39mtime_val, lat\u001b[38;5;241m=\u001b[39mlat_val, lon\u001b[38;5;241m=\u001b[39mlon_val)\u001b[38;5;241m.\u001b[39mair\u001b[38;5;241m.\u001b[39mvalues\n\u001b[1;32m     13\u001b[0m         df \u001b[38;5;241m=\u001b[39m df\u001b[38;5;241m.\u001b[39mappend({\u001b[38;5;124m\"\u001b[39m\u001b[38;5;124mtime\u001b[39m\u001b[38;5;124m\"\u001b[39m: time_val, \u001b[38;5;124m\"\u001b[39m\u001b[38;5;124mlat\u001b[39m\u001b[38;5;124m\"\u001b[39m: lat_val, \u001b[38;5;124m\"\u001b[39m\u001b[38;5;124mlon\u001b[39m\u001b[38;5;124m\"\u001b[39m: lon_val, \u001b[38;5;124m\"\u001b[39m\u001b[38;5;124mt2m\u001b[39m\u001b[38;5;124m\"\u001b[39m: t2m}, ignore_index\u001b[38;5;241m=\u001b[39m\u001b[38;5;28;01mTrue\u001b[39;00m)\n",
      "File \u001b[0;32m~/anaconda3/lib/python3.11/site-packages/xarray/core/dataset.py:2667\u001b[0m, in \u001b[0;36mDataset.sel\u001b[0;34m(self, indexers, method, tolerance, drop, **indexers_kwargs)\u001b[0m\n\u001b[1;32m   2664\u001b[0m                 query_results\u001b[38;5;241m.\u001b[39mdrop_coords\u001b[38;5;241m.\u001b[39mappend(k)\n\u001b[1;32m   2665\u001b[0m     query_results\u001b[38;5;241m.\u001b[39mvariables \u001b[38;5;241m=\u001b[39m no_scalar_variables\n\u001b[0;32m-> 2667\u001b[0m result \u001b[38;5;241m=\u001b[39m \u001b[38;5;28mself\u001b[39m\u001b[38;5;241m.\u001b[39misel(indexers\u001b[38;5;241m=\u001b[39mquery_results\u001b[38;5;241m.\u001b[39mdim_indexers, drop\u001b[38;5;241m=\u001b[39mdrop)\n\u001b[1;32m   2668\u001b[0m \u001b[38;5;28;01mreturn\u001b[39;00m result\u001b[38;5;241m.\u001b[39m_overwrite_indexes(\u001b[38;5;241m*\u001b[39mquery_results\u001b[38;5;241m.\u001b[39mas_tuple()[\u001b[38;5;241m1\u001b[39m:])\n",
      "File \u001b[0;32m~/anaconda3/lib/python3.11/site-packages/xarray/core/dataset.py:2526\u001b[0m, in \u001b[0;36mDataset.isel\u001b[0;34m(self, indexers, drop, missing_dims, **indexers_kwargs)\u001b[0m\n\u001b[1;32m   2524\u001b[0m var_indexers \u001b[38;5;241m=\u001b[39m {k: v \u001b[38;5;28;01mfor\u001b[39;00m k, v \u001b[38;5;129;01min\u001b[39;00m indexers\u001b[38;5;241m.\u001b[39mitems() \u001b[38;5;28;01mif\u001b[39;00m k \u001b[38;5;129;01min\u001b[39;00m var\u001b[38;5;241m.\u001b[39mdims}\n\u001b[1;32m   2525\u001b[0m \u001b[38;5;28;01mif\u001b[39;00m var_indexers:\n\u001b[0;32m-> 2526\u001b[0m     var \u001b[38;5;241m=\u001b[39m var\u001b[38;5;241m.\u001b[39misel(var_indexers)\n\u001b[1;32m   2527\u001b[0m     \u001b[38;5;28;01mif\u001b[39;00m drop \u001b[38;5;129;01mand\u001b[39;00m var\u001b[38;5;241m.\u001b[39mndim \u001b[38;5;241m==\u001b[39m \u001b[38;5;241m0\u001b[39m \u001b[38;5;129;01mand\u001b[39;00m name \u001b[38;5;129;01min\u001b[39;00m coord_names:\n\u001b[1;32m   2528\u001b[0m         coord_names\u001b[38;5;241m.\u001b[39mremove(name)\n",
      "File \u001b[0;32m~/anaconda3/lib/python3.11/site-packages/xarray/core/variable.py:1378\u001b[0m, in \u001b[0;36mVariable.isel\u001b[0;34m(self, indexers, missing_dims, **indexers_kwargs)\u001b[0m\n\u001b[1;32m   1375\u001b[0m indexers \u001b[38;5;241m=\u001b[39m drop_dims_from_indexers(indexers, \u001b[38;5;28mself\u001b[39m\u001b[38;5;241m.\u001b[39mdims, missing_dims)\n\u001b[1;32m   1377\u001b[0m key \u001b[38;5;241m=\u001b[39m \u001b[38;5;28mtuple\u001b[39m(indexers\u001b[38;5;241m.\u001b[39mget(dim, \u001b[38;5;28mslice\u001b[39m(\u001b[38;5;28;01mNone\u001b[39;00m)) \u001b[38;5;28;01mfor\u001b[39;00m dim \u001b[38;5;129;01min\u001b[39;00m \u001b[38;5;28mself\u001b[39m\u001b[38;5;241m.\u001b[39mdims)\n\u001b[0;32m-> 1378\u001b[0m \u001b[38;5;28;01mreturn\u001b[39;00m \u001b[38;5;28mself\u001b[39m[key]\n",
      "File \u001b[0;32m~/anaconda3/lib/python3.11/site-packages/xarray/core/variable.py:900\u001b[0m, in \u001b[0;36mVariable.__getitem__\u001b[0;34m(self, key)\u001b[0m\n\u001b[1;32m    887\u001b[0m \u001b[38;5;250m\u001b[39m\u001b[38;5;124;03m\"\"\"Return a new Variable object whose contents are consistent with\u001b[39;00m\n\u001b[1;32m    888\u001b[0m \u001b[38;5;124;03mgetting the provided key from the underlying data.\u001b[39;00m\n\u001b[1;32m    889\u001b[0m \n\u001b[0;32m   (...)\u001b[0m\n\u001b[1;32m    897\u001b[0m \u001b[38;5;124;03marray `x.values` directly.\u001b[39;00m\n\u001b[1;32m    898\u001b[0m \u001b[38;5;124;03m\"\"\"\u001b[39;00m\n\u001b[1;32m    899\u001b[0m dims, indexer, new_order \u001b[38;5;241m=\u001b[39m \u001b[38;5;28mself\u001b[39m\u001b[38;5;241m.\u001b[39m_broadcast_indexes(key)\n\u001b[0;32m--> 900\u001b[0m data \u001b[38;5;241m=\u001b[39m as_indexable(\u001b[38;5;28mself\u001b[39m\u001b[38;5;241m.\u001b[39m_data)[indexer]\n\u001b[1;32m    901\u001b[0m \u001b[38;5;28;01mif\u001b[39;00m new_order:\n\u001b[1;32m    902\u001b[0m     data \u001b[38;5;241m=\u001b[39m np\u001b[38;5;241m.\u001b[39mmoveaxis(data, \u001b[38;5;28mrange\u001b[39m(\u001b[38;5;28mlen\u001b[39m(new_order)), new_order)\n",
      "File \u001b[0;32m~/anaconda3/lib/python3.11/site-packages/xarray/core/indexing.py:721\u001b[0m, in \u001b[0;36mas_indexable\u001b[0;34m(array)\u001b[0m\n\u001b[1;32m    719\u001b[0m \u001b[38;5;28;01mif\u001b[39;00m \u001b[38;5;28misinstance\u001b[39m(array, pd\u001b[38;5;241m.\u001b[39mIndex):\n\u001b[1;32m    720\u001b[0m     \u001b[38;5;28;01mreturn\u001b[39;00m PandasIndexingAdapter(array)\n\u001b[0;32m--> 721\u001b[0m \u001b[38;5;28;01mif\u001b[39;00m is_duck_dask_array(array):\n\u001b[1;32m    722\u001b[0m     \u001b[38;5;28;01mreturn\u001b[39;00m DaskIndexingAdapter(array)\n\u001b[1;32m    723\u001b[0m \u001b[38;5;28;01mif\u001b[39;00m \u001b[38;5;28mhasattr\u001b[39m(array, \u001b[38;5;124m\"\u001b[39m\u001b[38;5;124m__array_function__\u001b[39m\u001b[38;5;124m\"\u001b[39m):\n",
      "File \u001b[0;32m~/anaconda3/lib/python3.11/site-packages/xarray/core/pycompat.py:95\u001b[0m, in \u001b[0;36mis_duck_dask_array\u001b[0;34m(x)\u001b[0m\n\u001b[1;32m     94\u001b[0m \u001b[38;5;28;01mdef\u001b[39;00m \u001b[38;5;21mis_duck_dask_array\u001b[39m(x):\n\u001b[0;32m---> 95\u001b[0m     \u001b[38;5;28;01mreturn\u001b[39;00m is_duck_array(x) \u001b[38;5;129;01mand\u001b[39;00m is_dask_collection(x)\n",
      "File \u001b[0;32m~/anaconda3/lib/python3.11/site-packages/xarray/core/utils.py:262\u001b[0m, in \u001b[0;36mis_duck_array\u001b[0;34m(value)\u001b[0m\n\u001b[1;32m    257\u001b[0m \u001b[38;5;28;01mif\u001b[39;00m \u001b[38;5;28misinstance\u001b[39m(value, np\u001b[38;5;241m.\u001b[39mndarray):\n\u001b[1;32m    258\u001b[0m     \u001b[38;5;28;01mreturn\u001b[39;00m \u001b[38;5;28;01mTrue\u001b[39;00m\n\u001b[1;32m    259\u001b[0m \u001b[38;5;28;01mreturn\u001b[39;00m (\n\u001b[1;32m    260\u001b[0m     \u001b[38;5;28mhasattr\u001b[39m(value, \u001b[38;5;124m\"\u001b[39m\u001b[38;5;124mndim\u001b[39m\u001b[38;5;124m\"\u001b[39m)\n\u001b[1;32m    261\u001b[0m     \u001b[38;5;129;01mand\u001b[39;00m \u001b[38;5;28mhasattr\u001b[39m(value, \u001b[38;5;124m\"\u001b[39m\u001b[38;5;124mshape\u001b[39m\u001b[38;5;124m\"\u001b[39m)\n\u001b[0;32m--> 262\u001b[0m     \u001b[38;5;129;01mand\u001b[39;00m \u001b[38;5;28mhasattr\u001b[39m(value, \u001b[38;5;124m\"\u001b[39m\u001b[38;5;124mdtype\u001b[39m\u001b[38;5;124m\"\u001b[39m)\n\u001b[1;32m    263\u001b[0m     \u001b[38;5;129;01mand\u001b[39;00m (\n\u001b[1;32m    264\u001b[0m         (\u001b[38;5;28mhasattr\u001b[39m(value, \u001b[38;5;124m\"\u001b[39m\u001b[38;5;124m__array_function__\u001b[39m\u001b[38;5;124m\"\u001b[39m) \u001b[38;5;129;01mand\u001b[39;00m \u001b[38;5;28mhasattr\u001b[39m(value, \u001b[38;5;124m\"\u001b[39m\u001b[38;5;124m__array_ufunc__\u001b[39m\u001b[38;5;124m\"\u001b[39m))\n\u001b[1;32m    265\u001b[0m         \u001b[38;5;129;01mor\u001b[39;00m \u001b[38;5;28mhasattr\u001b[39m(value, \u001b[38;5;124m\"\u001b[39m\u001b[38;5;124m__array_namespace__\u001b[39m\u001b[38;5;124m\"\u001b[39m)\n\u001b[1;32m    266\u001b[0m     )\n\u001b[1;32m    267\u001b[0m )\n",
      "File \u001b[0;32m~/anaconda3/lib/python3.11/site-packages/dask/array/core.py:1520\u001b[0m, in \u001b[0;36mArray.dtype\u001b[0;34m(self)\u001b[0m\n\u001b[1;32m   1516\u001b[0m \u001b[38;5;129m@property\u001b[39m\n\u001b[1;32m   1517\u001b[0m \u001b[38;5;28;01mdef\u001b[39;00m \u001b[38;5;21mchunksize\u001b[39m(\u001b[38;5;28mself\u001b[39m) \u001b[38;5;241m-\u001b[39m\u001b[38;5;241m>\u001b[39m \u001b[38;5;28mtuple\u001b[39m[T_IntOrNaN, \u001b[38;5;241m.\u001b[39m\u001b[38;5;241m.\u001b[39m\u001b[38;5;241m.\u001b[39m]:\n\u001b[1;32m   1518\u001b[0m     \u001b[38;5;28;01mreturn\u001b[39;00m \u001b[38;5;28mtuple\u001b[39m(\u001b[38;5;28mmax\u001b[39m(c) \u001b[38;5;28;01mfor\u001b[39;00m c \u001b[38;5;129;01min\u001b[39;00m \u001b[38;5;28mself\u001b[39m\u001b[38;5;241m.\u001b[39mchunks)\n\u001b[0;32m-> 1520\u001b[0m \u001b[38;5;129m@property\u001b[39m\n\u001b[1;32m   1521\u001b[0m \u001b[38;5;28;01mdef\u001b[39;00m \u001b[38;5;21mdtype\u001b[39m(\u001b[38;5;28mself\u001b[39m):\n\u001b[1;32m   1522\u001b[0m     \u001b[38;5;28;01mif\u001b[39;00m \u001b[38;5;28misinstance\u001b[39m(\u001b[38;5;28mself\u001b[39m\u001b[38;5;241m.\u001b[39m_meta, \u001b[38;5;28mtuple\u001b[39m):\n\u001b[1;32m   1523\u001b[0m         dtype \u001b[38;5;241m=\u001b[39m \u001b[38;5;28mself\u001b[39m\u001b[38;5;241m.\u001b[39m_meta[\u001b[38;5;241m0\u001b[39m]\u001b[38;5;241m.\u001b[39mdtype\n",
      "\u001b[0;31mKeyboardInterrupt\u001b[0m: "
     ]
    }
   ],
   "source": [
    "warnings.filterwarnings('ignore')\n",
    "from tqdm.auto import tqdm\n",
    "\n",
    "\n",
    "\n",
    "df = pd.DataFrame(columns=[\"time\", \"lat\", \"lon\", \"t2m\"])\n",
    "\n",
    "# Loop through dimensions and populate the DataFrame\n",
    "for time_val in tqdm(data.coords[\"time\"].values[:5],desc='Main Loop',leave=True):\n",
    "    for lat_val in tqdm(data.coords[\"lat\"].values,desc=f\"loop for time_val={time_val}\",leave=False):\n",
    "        for lon_val in tqdm(data.coords[\"lon\"].values,desc=f\"loop for lon_val={lat_val}\",leave=False):\n",
    "            t2m = data.sel(time=time_val, lat=lat_val, lon=lon_val).air.values\n",
    "            df = df.append({\"time\": time_val, \"lat\": lat_val, \"lon\": lon_val, \"t2m\": t2m}, ignore_index=True)\n"
   ]
  },
  {
   "cell_type": "code",
   "execution_count": null,
   "id": "88383c4c",
   "metadata": {},
   "outputs": [],
   "source": [
    "df"
   ]
  },
  {
   "cell_type": "code",
   "execution_count": null,
   "id": "be029af6",
   "metadata": {},
   "outputs": [],
   "source": [
    "sanjid"
   ]
  },
  {
   "cell_type": "markdown",
   "id": "8e19c20e",
   "metadata": {},
   "source": [
    "# Important Codes examples"
   ]
  },
  {
   "cell_type": "code",
   "execution_count": null,
   "id": "7c318ef6",
   "metadata": {},
   "outputs": [],
   "source": [
    "# how to do it chunk by chunk.\n",
    "\n",
    "import pandas as pd\n",
    "import xarray as xr\n",
    "\n",
    "# # Open your netCDF dataset\n",
    "# ds = xr.open_dataset('your_dataset.nc')\n",
    "\n",
    "# Define the chunk size\n",
    "chunk_size = 1000  # Adjust this based on your available memory\n",
    "\n",
    "# Initialize an empty DataFrame to store the results\n",
    "t2m_df = pd.DataFrame(columns=['time', 'lat', 'lon', 't2m'])\n",
    "\n",
    "# Loop through the data in chunks\n",
    "for start in range(0, len(data.time), chunk_size):\n",
    "    end = start + chunk_size\n",
    "    chunk = data.isel(time=slice(start, end))\n",
    "\n",
    "    # Extract the data\n",
    "    time = chunk.time.values\n",
    "    lat = chunk.lat.values\n",
    "    lon = chunk.lon.values\n",
    "    t2m = chunk.air.values.ravel()\n",
    "\n",
    "    # Create a DataFrame for this chunk and append it to the main DataFrame\n",
    "    chunk_df = pd.DataFrame({\n",
    "        'time': time.repeat(len(lat) * len(lon)),\n",
    "        'lat': np.tile(lat, len(time)),\n",
    "        'lon': np.tile(lon, len(time)),\n",
    "        't2m': t2m\n",
    "    })\n",
    "\n",
    "    t2m_df = t2m_df.append(chunk_df, ignore_index=True)\n",
    "\n",
    "# Now t2m_df contains the data from the entire dataset in smaller chunks\n",
    "\n"
   ]
  },
  {
   "cell_type": "code",
   "execution_count": null,
   "id": "7c4ebd34",
   "metadata": {},
   "outputs": [],
   "source": [
    "import xarray as xr\n",
    "import numpy as np\n",
    "import pandas as pd\n",
    "\n",
    "# Create a sample dataset with dimensions (time, lat, lon)\n",
    "time = pd.date_range(\"2023-01-01\", periods=4, freq=\"D\")\n",
    "latitudes = np.linspace(-90, 90, 2)\n",
    "longitudes = np.linspace(0, 360, 3)\n",
    "data = np.random.rand(4, 2, 3)\n",
    "\n",
    "# Create an xarray dataset\n",
    "ds = xr.Dataset(\n",
    "    {\n",
    "        \"air\": ([\"time\", \"lat\", \"lon\"], data),\n",
    "    },\n",
    "    coords={\"time\": time, \"lat\": latitudes, \"lon\": longitudes},\n",
    ")\n",
    "\n",
    "# Extract variables from the xarray dataset\n",
    "t2m = ds[\"air\"].values\n",
    "time = ds[\"time\"].values\n",
    "lat = ds[\"lat\"].values\n",
    "lon = ds[\"lon\"].values\n",
    "\n",
    "# Ensure the dimensions are aligned correctly\n",
    "time = np.repeat(time, len(latitudes) * len(longitudes))\n",
    "lat = np.tile(lat, len(time) // len(lat))\n",
    "lon = np.tile(lon, len(time) // len(lon))\n",
    "t2m = t2m.ravel()\n",
    "\n",
    "# Create the DataFrame\n",
    "t2m_df = pd.DataFrame({\n",
    "    'time': time,\n",
    "    'lat': lat,\n",
    "    'lon': lon,\n",
    "    't2m': t2m\n",
    "})\n",
    "t2m_df"
   ]
  },
  {
   "cell_type": "code",
   "execution_count": null,
   "id": "93360eed",
   "metadata": {},
   "outputs": [],
   "source": [
    "import xarray as xr\n",
    "import numpy as np\n",
    "import pandas as pd\n",
    "\n",
    "# # Create a sample dataset with dimensions (time, lat, lon)\n",
    "# time = pd.date_range(\"2023-01-01\", periods=4, freq=\"D\")\n",
    "# latitudes = np.linspace(-90, 90, 2)\n",
    "# longitudes = np.linspace(0, 360, 3)\n",
    "# data = np.random.rand(4, 2, 3)\n",
    "\n",
    "# # Create an xarray dataset\n",
    "# data = xr.Dataset(\n",
    "#     {\n",
    "#         \"air\": ([\"time\", \"lat\", \"lon\"], data),\n",
    "#     },\n",
    "#     coords={\"time\": time, \"lat\": latitudes, \"lon\": longitudes},\n",
    "# )\n",
    "data=ds\n",
    "\n",
    "\n",
    "df = pd.DataFrame(columns=[\"time\", \"lat\", \"lon\", \"t2m\"])\n",
    "\n",
    "# Loop through dimensions and populate the DataFrame\n",
    "for time_val in data.coords[\"time\"].values:\n",
    "    for lat_val in data.coords[\"lat\"].values:\n",
    "        for lon_val in data.coords[\"lon\"].values:\n",
    "            t2m = data.sel(time=time_val, lat=lat_val, lon=lon_val).air.values\n",
    "            t2m = np.round(t2m, 6)\n",
    "            df = df.append({\"time\": time_val, \"lat\": lat_val, \"lon\": lon_val, \"t2m\": t2m}, ignore_index=True)\n",
    "\n",
    "df"
   ]
  },
  {
   "cell_type": "markdown",
   "id": "6ccdc2c8",
   "metadata": {},
   "source": [
    "# Implementing  a progress bar\n",
    "[Tutorial Link](https://medium.com/@harshit4084/track-your-loop-using-tqdm-7-ways-progress-bars-in-python-make-things-easier-fcbbb9233f24)"
   ]
  },
  {
   "cell_type": "code",
   "execution_count": null,
   "id": "bd98ed83",
   "metadata": {
    "scrolled": true
   },
   "outputs": [],
   "source": [
    "from tqdm.auto import tqdm\n",
    "warnings.filterwarnings('ignore')\n",
    "\n",
    "# Create a sample dataset with dimensions (time, lat, lon)\n",
    "time = pd.date_range(\"2023-01-01\", periods=15, freq=\"D\")\n",
    "latitudes = np.linspace(-90, 90, 45)\n",
    "longitudes = np.linspace(0, 360, 90)\n",
    "data = np.random.rand(15, 45, 90)\n",
    "\n",
    "# Create an xarray dataset\n",
    "data = xr.Dataset(\n",
    "    {\n",
    "        \"air\": ([\"time\", \"lat\", \"lon\"], data),\n",
    "    },\n",
    "    coords={\"time\": time, \"lat\": latitudes, \"lon\": longitudes},\n",
    ")\n",
    "\n",
    "\n",
    "df = pd.DataFrame(columns=[\"time\", \"lat\", \"lon\", \"t2m\"])\n",
    "\n",
    "# Loop through dimensions and populate the DataFrame\n",
    "for time_val in tqdm(data.coords[\"time\"].values,desc='Main Loop',leave=True):\n",
    "    for lat_val in tqdm(data.coords[\"lat\"].values,desc=f\"loop for time_val={time_val}\",leave=False):\n",
    "        for lon_val in tqdm(data.coords[\"lon\"].values,desc=f\"loop for lon_val={lat_val}\",leave=False):\n",
    "            t2m = data.sel(time=time_val, lat=lat_val, lon=lon_val).air.values\n",
    "            df = df.append({\"time\": time_val, \"lat\": lat_val, \"lon\": lon_val, \"t2m\": t2m}, ignore_index=True)\n",
    "\n",
    "# df"
   ]
  },
  {
   "cell_type": "code",
   "execution_count": null,
   "id": "cb34c344",
   "metadata": {},
   "outputs": [],
   "source": [
    "import xarray as xr\n",
    "import numpy as np\n",
    "import pandas as pd\n",
    "\n",
    "# Create a sample dataset with dimensions (time, lat, lon)\n",
    "# Create a sample dataset with dimensions (time, lat, lon)\n",
    "time = pd.date_range(\"2023-01-01\", periods=365, freq=\"D\")\n",
    "latitudes = np.linspace(-90, 90, 45)\n",
    "longitudes = np.linspace(0, 360, 90)\n",
    "data = np.random.rand(365, 45, 90)\n",
    "\n",
    "# Create an xarray dataset\n",
    "ds = xr.Dataset(\n",
    "    {\n",
    "        \"air\": ([\"time\", \"lat\", \"lon\"], data),\n",
    "    },\n",
    "    coords={\"time\": time, \"lat\": latitudes, \"lon\": longitudes},\n",
    ")\n",
    "\n",
    "# Define the chunk size\n",
    "chunk_size = 20  # Adjust this based on your available memory\n",
    "\n",
    "# Initialize an empty DataFrame to store the results\n",
    "t2m_df = pd.DataFrame(columns=['time', 'lat', 'lon', 't2m'])\n",
    "\n",
    "# Loop through the data in chunks\n",
    "for start in range(0, len(ds.time), chunk_size):\n",
    "    end = start + chunk_size\n",
    "    chunk = ds.isel(time=slice(start, end))\n",
    "\n",
    "    # Extract the data\n",
    "    time = chunk.time.values\n",
    "    lat = chunk.lat.values\n",
    "    lon = chunk.lon.values\n",
    "    t2m = chunk.air.values\n",
    "\n",
    "    # Ensure the dimensions are aligned correctly\n",
    "    time = np.repeat(time, len(latitudes) * len(longitudes))\n",
    "    lat = np.tile(lat, len(time) // len(lat))\n",
    "    lon = np.tile(lon, len(time) // len(lon))\n",
    "    t2m = t2m.ravel()\n",
    "\n",
    "    # Create a DataFrame for this chunk and append it to the main DataFrame\n",
    "    chunk_df = pd.DataFrame({\n",
    "        'time': time,\n",
    "        'lat': lat,\n",
    "        'lon': lon,\n",
    "        't2m': t2m\n",
    "    })\n",
    "\n",
    "    t2m_df = t2m_df.append(chunk_df, ignore_index=True)\n",
    "\n",
    "# Print or use t2m_df as needed\n",
    "t2m_df.head()"
   ]
  },
  {
   "cell_type": "code",
   "execution_count": null,
   "id": "1fab46f4",
   "metadata": {},
   "outputs": [],
   "source": []
  }
 ],
 "metadata": {
  "kernelspec": {
   "display_name": "Python 3 (ipykernel)",
   "language": "python",
   "name": "python3"
  },
  "language_info": {
   "codemirror_mode": {
    "name": "ipython",
    "version": 3
   },
   "file_extension": ".py",
   "mimetype": "text/x-python",
   "name": "python",
   "nbconvert_exporter": "python",
   "pygments_lexer": "ipython3",
   "version": "3.11.4"
  }
 },
 "nbformat": 4,
 "nbformat_minor": 5
}
